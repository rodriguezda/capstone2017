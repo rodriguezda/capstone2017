{
 "cells": [
  {
   "cell_type": "markdown",
   "metadata": {},
   "source": [
    "checklist:\n",
    "- neighborhood: clean\n",
    "- subneighborhood: clean\n",
    "- use_code: clean (create a data dictionary for this column)\n",
    "- exception: clean\n",
    "- tax_type: clean (create a data dictionary for this column)\n",
    "- tax_class2: clean (create a data dictionary for this column)\n",
    "- homestead: dummified and column cleaned\n",
    "- assessor: cleaned (titlecase)\n",
    "- building_area: empty (for now. check again once you get the full dataset)\n",
    "- ward: float status. cleaning not needed\n",
    "- land_area: clean (dropped commas)\n",
    "- triennial_group: no cleaning necessary (float)\n",
    "- owner_name: cleaned (converted to title case)\n",
    "- address: cleaned (spend an hour on this!\n",
    "- sale_price: cleaned (dropped commas and dollar signs)\n",
    "- current_value: drop it\n",
    "- new_value: drop it\n",
    "- land_2017: cleaned (dropped commas and dollar signs)\n",
    "- land_2018: cleaned (dropped commas and dollar signs)\n",
    "- improvements_2017: cleaned (dropped commas and dollar signs)\n",
    "- improvements_2018: cleaned (dropped commas and dollar signs)\n",
    "- value_2017: cleaned (dropped commas and dollar signs)\n",
    "- value_2018: cleaned (dropped commas and dollar signs)\n",
    "- assessment_2017: cleaned (dropped commas and dollar signs)\n",
    "- assessment_2018: cleaned (dropped commas and dollar signs)\n",
    "\n",
    "I need to:\n",
    "\n",
    "- drop duplicates (use reddit documentation)\n",
    "- look at home values that are \\$1\n",
    "- drop non-dc values (look at city column)\n",
    "- drop codes that are not residential\n",
    "- df = df[df.codes.isin([11,12,16,17,13,18,24,23])].head()\n",
    "- add lats and longs\n",
    "- eda (sns plot)\n",
    "- search for 'Not Available'"
   ]
  },
  {
   "cell_type": "code",
   "execution_count": 1,
   "metadata": {
    "collapsed": true
   },
   "outputs": [],
   "source": [
    "import numpy as np\n",
    "import pandas as pd"
   ]
  },
  {
   "cell_type": "code",
   "execution_count": 2,
   "metadata": {
    "collapsed": true
   },
   "outputs": [],
   "source": [
    "path = 'otr copy 2.csv'\n",
    "df = pd.read_csv(path)"
   ]
  },
  {
   "cell_type": "code",
   "execution_count": 3,
   "metadata": {
    "collapsed": true
   },
   "outputs": [],
   "source": [
    "#df = df.address.notnull() #http://bit.ly/2zk56jD"
   ]
  },
  {
   "cell_type": "code",
   "execution_count": 4,
   "metadata": {
    "collapsed": true
   },
   "outputs": [],
   "source": [
    "df.dropna(inplace=True)"
   ]
  },
  {
   "cell_type": "code",
   "execution_count": 5,
   "metadata": {},
   "outputs": [
    {
     "data": {
      "text/plain": [
       "(47166, 29)"
      ]
     },
     "execution_count": 5,
     "metadata": {},
     "output_type": "execute_result"
    }
   ],
   "source": [
    "df.shape"
   ]
  },
  {
   "cell_type": "code",
   "execution_count": 6,
   "metadata": {
    "collapsed": true
   },
   "outputs": [],
   "source": [
    "df.replace('', np.NaN, inplace = True)"
   ]
  },
  {
   "cell_type": "code",
   "execution_count": 7,
   "metadata": {
    "collapsed": true
   },
   "outputs": [],
   "source": [
    "df['neighborhood'] = df['neighborhood'].str.title()\n",
    "df['neighborhood'] = df['neighborhood'].str.replace('American Univ. Park','American University Park')"
   ]
  },
  {
   "cell_type": "code",
   "execution_count": 8,
   "metadata": {
    "collapsed": true
   },
   "outputs": [],
   "source": [
    "df['use_code2'] = df['use_code'].str.extract('(^\\d{2,})', expand = True)\n",
    "df['use_code2']=df['use_code2'].str.strip()"
   ]
  },
  {
   "cell_type": "code",
   "execution_count": 9,
   "metadata": {
    "collapsed": true
   },
   "outputs": [],
   "source": [
    "df['tax_type2'] = df['tax_type'].str.extract('(^\\w{2})', expand = True)\n",
    "df.tax_type2=df['tax_type2'].str.strip()"
   ]
  },
  {
   "cell_type": "code",
   "execution_count": 10,
   "metadata": {
    "collapsed": true
   },
   "outputs": [],
   "source": [
    "df['tax_class2'] = df['tax_class'].str.extract(r'([0-9]\\b)', expand = True)\n",
    "df['tax_class2']=df['tax_class2'].str.strip()"
   ]
  },
  {
   "cell_type": "code",
   "execution_count": 11,
   "metadata": {},
   "outputs": [
    {
     "data": {
      "text/plain": [
       "** Not receiving the Homestead Deduction                             22223\n",
       "** Currently receiving the Homestead Deduction*.                     22036\n",
       "** Currently receiving the Senior Citizen Homestead Deduction*.       2752\n",
       "                                                                       155\n",
       "Name: homestead, dtype: int64"
      ]
     },
     "execution_count": 11,
     "metadata": {},
     "output_type": "execute_result"
    }
   ],
   "source": [
    "df.homestead.value_counts()"
   ]
  },
  {
   "cell_type": "code",
   "execution_count": 12,
   "metadata": {},
   "outputs": [
    {
     "data": {
      "text/plain": [
       "Index(['** Currently receiving the Homestead Deduction*.  ',\n",
       "       '** Currently receiving the Senior Citizen Homestead Deduction*.  ',\n",
       "       '** Not receiving the Homestead Deduction '],\n",
       "      dtype='object')"
      ]
     },
     "execution_count": 12,
     "metadata": {},
     "output_type": "execute_result"
    }
   ],
   "source": [
    "homestead1 = pd.get_dummies(df.homestead).iloc[:, 1:]\n",
    "homestead1.columns"
   ]
  },
  {
   "cell_type": "code",
   "execution_count": 13,
   "metadata": {
    "collapsed": true
   },
   "outputs": [],
   "source": [
    "homestead1.columns = ['homestead_yes', 'homestead_senior', 'homestead_no']\n",
    "df = pd.concat([df, homestead1], axis=1)"
   ]
  },
  {
   "cell_type": "code",
   "execution_count": 14,
   "metadata": {
    "collapsed": true
   },
   "outputs": [],
   "source": [
    "df['assessor'] = df['assessor'].str.title()"
   ]
  },
  {
   "cell_type": "code",
   "execution_count": 15,
   "metadata": {
    "collapsed": true
   },
   "outputs": [],
   "source": [
    "df['land_area'] = df['land_area'].str.replace(',', '')"
   ]
  },
  {
   "cell_type": "code",
   "execution_count": 16,
   "metadata": {
    "collapsed": true
   },
   "outputs": [],
   "source": [
    "df['owner_name'] = df['owner_name'].str.title()"
   ]
  },
  {
   "cell_type": "code",
   "execution_count": 17,
   "metadata": {
    "collapsed": true
   },
   "outputs": [],
   "source": [
    "df['sale_price'] = df['sale_price'].str.replace(',', '').str.replace('$', '')"
   ]
  },
  {
   "cell_type": "code",
   "execution_count": 18,
   "metadata": {
    "collapsed": true
   },
   "outputs": [],
   "source": [
    "df.drop(['current_value','new_value'], axis=1, inplace=True)"
   ]
  },
  {
   "cell_type": "code",
   "execution_count": 19,
   "metadata": {
    "collapsed": true
   },
   "outputs": [],
   "source": [
    "df['land_2017']= df['land_2017'].str.replace(',', '').str.replace('$', '')"
   ]
  },
  {
   "cell_type": "code",
   "execution_count": 20,
   "metadata": {
    "collapsed": true
   },
   "outputs": [],
   "source": [
    "df['land_2018']= df['land_2018'].str.replace(',', '').str.replace('$', '')"
   ]
  },
  {
   "cell_type": "code",
   "execution_count": 21,
   "metadata": {
    "collapsed": true
   },
   "outputs": [],
   "source": [
    "df['improvements_2017']= df['improvements_2017'].str.replace(',', '').str.replace('$', '')"
   ]
  },
  {
   "cell_type": "code",
   "execution_count": 22,
   "metadata": {
    "collapsed": true
   },
   "outputs": [],
   "source": [
    "df['improvements_2018']= df['improvements_2018'].str.replace(',', '').str.replace('$', '')"
   ]
  },
  {
   "cell_type": "code",
   "execution_count": 23,
   "metadata": {
    "collapsed": true
   },
   "outputs": [],
   "source": [
    "df['value_2017']= df['value_2017'].str.replace(',', '').str.replace('$', '')"
   ]
  },
  {
   "cell_type": "code",
   "execution_count": 24,
   "metadata": {
    "collapsed": true
   },
   "outputs": [],
   "source": [
    "df['value_2018']= df['value_2018'].str.replace(',', '').str.replace('$', '')"
   ]
  },
  {
   "cell_type": "code",
   "execution_count": 25,
   "metadata": {
    "collapsed": true
   },
   "outputs": [],
   "source": [
    "df['assessment_2017']= df['assessment_2017'].str.replace(',', '').str.replace('$', '')"
   ]
  },
  {
   "cell_type": "code",
   "execution_count": 26,
   "metadata": {
    "collapsed": true
   },
   "outputs": [],
   "source": [
    "df['assessment_2018']= df['assessment_2018'].str.replace(',', '').str.replace('$', '')"
   ]
  },
  {
   "cell_type": "code",
   "execution_count": 27,
   "metadata": {
    "collapsed": true
   },
   "outputs": [],
   "source": [
    "df['address'] = df['address'].str.replace('                  ', ', ')"
   ]
  },
  {
   "cell_type": "code",
   "execution_count": 28,
   "metadata": {
    "collapsed": true
   },
   "outputs": [],
   "source": [
    "df['address'] = df['address'].str.replace('                 ', ', ')"
   ]
  },
  {
   "cell_type": "code",
   "execution_count": 29,
   "metadata": {
    "collapsed": true
   },
   "outputs": [],
   "source": [
    "df['address'] = df['address'].str.replace('    ', ' ')"
   ]
  },
  {
   "cell_type": "code",
   "execution_count": 30,
   "metadata": {
    "collapsed": true
   },
   "outputs": [],
   "source": [
    "df['address'] = df['address'].str.replace('   ', ' ')"
   ]
  },
  {
   "cell_type": "code",
   "execution_count": 31,
   "metadata": {
    "collapsed": true
   },
   "outputs": [],
   "source": [
    "df['address'] = df['address'].str.replace('  ', ' ')"
   ]
  },
  {
   "cell_type": "code",
   "execution_count": 32,
   "metadata": {
    "collapsed": true
   },
   "outputs": [],
   "source": [
    "df['address'] = df['address'].str.strip()"
   ]
  },
  {
   "cell_type": "code",
   "execution_count": 33,
   "metadata": {
    "collapsed": true
   },
   "outputs": [],
   "source": [
    "df['address1'] = df['address']"
   ]
  },
  {
   "cell_type": "code",
   "execution_count": 34,
   "metadata": {
    "collapsed": true
   },
   "outputs": [],
   "source": [
    "df['address1'] = df['address1'].str.strip()"
   ]
  },
  {
   "cell_type": "code",
   "execution_count": 35,
   "metadata": {
    "collapsed": true
   },
   "outputs": [],
   "source": [
    "df['address1'] = df['address1'].str.slice(-10, -5) #zip_code"
   ]
  },
  {
   "cell_type": "code",
   "execution_count": 36,
   "metadata": {},
   "outputs": [
    {
     "data": {
      "text/plain": [
       "20009    8967\n",
       "20016    4248\n",
       "20019    4116\n",
       "20008    3183\n",
       "20017    2797\n",
       "Name: address1, dtype: int64"
      ]
     },
     "execution_count": 36,
     "metadata": {},
     "output_type": "execute_result"
    }
   ],
   "source": [
    "df.address1.value_counts().head()"
   ]
  },
  {
   "cell_type": "code",
   "execution_count": 37,
   "metadata": {
    "collapsed": true
   },
   "outputs": [],
   "source": [
    "### there's an issue above with how i slice addresses"
   ]
  },
  {
   "cell_type": "code",
   "execution_count": 38,
   "metadata": {
    "collapsed": true
   },
   "outputs": [],
   "source": [
    "df['zip_code'] = df['address1']"
   ]
  },
  {
   "cell_type": "code",
   "execution_count": 39,
   "metadata": {
    "collapsed": true
   },
   "outputs": [],
   "source": [
    "df['address1'] = df['address']"
   ]
  },
  {
   "cell_type": "code",
   "execution_count": 40,
   "metadata": {
    "collapsed": true
   },
   "outputs": [],
   "source": [
    "df['state'] = df['address1'].str.slice(-12, -10)"
   ]
  },
  {
   "cell_type": "code",
   "execution_count": 41,
   "metadata": {
    "collapsed": true
   },
   "outputs": [],
   "source": [
    "# a quick note about state, the state is derived from the address column, which is the mailing address"
   ]
  },
  {
   "cell_type": "code",
   "execution_count": 42,
   "metadata": {
    "collapsed": true
   },
   "outputs": [],
   "source": [
    "df['address1'] = df['address']"
   ]
  },
  {
   "cell_type": "code",
   "execution_count": 43,
   "metadata": {
    "collapsed": true
   },
   "outputs": [],
   "source": [
    "df['address1'] = df['address1'].str.strip()"
   ]
  },
  {
   "cell_type": "code",
   "execution_count": 44,
   "metadata": {
    "collapsed": true
   },
   "outputs": [],
   "source": [
    "df['city'] = df['address1'].str.slice(0, -14)"
   ]
  },
  {
   "cell_type": "code",
   "execution_count": 45,
   "metadata": {
    "collapsed": true
   },
   "outputs": [],
   "source": [
    "df['city'] = df['city'].str.replace('.+?(?=;)','')"
   ]
  },
  {
   "cell_type": "code",
   "execution_count": 46,
   "metadata": {
    "collapsed": true
   },
   "outputs": [],
   "source": [
    "df['city'] = df['city'].str.slice(1)  "
   ]
  },
  {
   "cell_type": "code",
   "execution_count": 47,
   "metadata": {
    "collapsed": true
   },
   "outputs": [],
   "source": [
    "df['city'] = df['city'].str.strip().str.title()"
   ]
  },
  {
   "cell_type": "code",
   "execution_count": 48,
   "metadata": {
    "collapsed": true
   },
   "outputs": [],
   "source": [
    "df['address1'] = df['address']"
   ]
  },
  {
   "cell_type": "code",
   "execution_count": 49,
   "metadata": {
    "collapsed": true
   },
   "outputs": [],
   "source": [
    "df['street'] = df['address1'].apply(lambda x: x.split(';')[0]).str.strip()"
   ]
  },
  {
   "cell_type": "code",
   "execution_count": 50,
   "metadata": {},
   "outputs": [
    {
     "data": {
      "text/html": [
       "<div>\n",
       "<style>\n",
       "    .dataframe thead tr:only-child th {\n",
       "        text-align: right;\n",
       "    }\n",
       "\n",
       "    .dataframe thead th {\n",
       "        text-align: left;\n",
       "    }\n",
       "\n",
       "    .dataframe tbody tr th {\n",
       "        vertical-align: top;\n",
       "    }\n",
       "</style>\n",
       "<table border=\"1\" class=\"dataframe\">\n",
       "  <thead>\n",
       "    <tr style=\"text-align: right;\">\n",
       "      <th></th>\n",
       "      <th>neighborhood</th>\n",
       "      <th>sub_neighborhood</th>\n",
       "      <th>use_code</th>\n",
       "      <th>exception</th>\n",
       "      <th>tax_type</th>\n",
       "      <th>tax_class</th>\n",
       "      <th>homestead</th>\n",
       "      <th>assessor</th>\n",
       "      <th>building_area</th>\n",
       "      <th>ward</th>\n",
       "      <th>...</th>\n",
       "      <th>tax_type2</th>\n",
       "      <th>tax_class2</th>\n",
       "      <th>homestead_yes</th>\n",
       "      <th>homestead_senior</th>\n",
       "      <th>homestead_no</th>\n",
       "      <th>address1</th>\n",
       "      <th>zip_code</th>\n",
       "      <th>state</th>\n",
       "      <th>city</th>\n",
       "      <th>street</th>\n",
       "    </tr>\n",
       "  </thead>\n",
       "  <tbody>\n",
       "    <tr>\n",
       "      <th>0</th>\n",
       "      <td>American University Park</td>\n",
       "      <td>C</td>\n",
       "      <td>12 - Residential-Detached-Single-Fa</td>\n",
       "      <td>No</td>\n",
       "      <td>TX  -Taxable</td>\n",
       "      <td>001 - Residential</td>\n",
       "      <td>** Currently receiving the Homestead Deduction...</td>\n",
       "      <td>Parker Norman</td>\n",
       "      <td></td>\n",
       "      <td>3.0</td>\n",
       "      <td>...</td>\n",
       "      <td>TX</td>\n",
       "      <td>1</td>\n",
       "      <td>1</td>\n",
       "      <td>0</td>\n",
       "      <td>0</td>\n",
       "      <td>4933 MASSACHUSETTS AVE NW; WASHINGTON, DC20016...</td>\n",
       "      <td>20016</td>\n",
       "      <td>DC</td>\n",
       "      <td>Washington</td>\n",
       "      <td>4933 MASSACHUSETTS AVE NW</td>\n",
       "    </tr>\n",
       "    <tr>\n",
       "      <th>1</th>\n",
       "      <td>American University Park</td>\n",
       "      <td>C</td>\n",
       "      <td>12 - Residential-Detached-Single-Fa</td>\n",
       "      <td>No</td>\n",
       "      <td>TX  -Taxable</td>\n",
       "      <td>001 - Residential</td>\n",
       "      <td>** Currently receiving the Homestead Deduction...</td>\n",
       "      <td>Parker Norman</td>\n",
       "      <td></td>\n",
       "      <td>3.0</td>\n",
       "      <td>...</td>\n",
       "      <td>TX</td>\n",
       "      <td>1</td>\n",
       "      <td>1</td>\n",
       "      <td>0</td>\n",
       "      <td>0</td>\n",
       "      <td>4931 MASSACHUSETTS AVE NW; WASHINGTON, DC20016...</td>\n",
       "      <td>20016</td>\n",
       "      <td>DC</td>\n",
       "      <td>Washington</td>\n",
       "      <td>4931 MASSACHUSETTS AVE NW</td>\n",
       "    </tr>\n",
       "    <tr>\n",
       "      <th>2</th>\n",
       "      <td>American University Park</td>\n",
       "      <td>C</td>\n",
       "      <td>12 - Residential-Detached-Single-Fa</td>\n",
       "      <td>No</td>\n",
       "      <td>TX  -Taxable</td>\n",
       "      <td>001 - Residential</td>\n",
       "      <td>** Currently receiving the Homestead Deduction...</td>\n",
       "      <td>Parker Norman</td>\n",
       "      <td></td>\n",
       "      <td>3.0</td>\n",
       "      <td>...</td>\n",
       "      <td>TX</td>\n",
       "      <td>1</td>\n",
       "      <td>1</td>\n",
       "      <td>0</td>\n",
       "      <td>0</td>\n",
       "      <td>4923 MASSACHUSETTS AVE NW; WASHINGTON, DC20016...</td>\n",
       "      <td>20016</td>\n",
       "      <td>DC</td>\n",
       "      <td>Washington</td>\n",
       "      <td>4923 MASSACHUSETTS AVE NW</td>\n",
       "    </tr>\n",
       "    <tr>\n",
       "      <th>3</th>\n",
       "      <td>American University Park</td>\n",
       "      <td>C</td>\n",
       "      <td>12 - Residential-Detached-Single-Fa</td>\n",
       "      <td>No</td>\n",
       "      <td>TX  -Taxable</td>\n",
       "      <td>001 - Residential</td>\n",
       "      <td>** Not receiving the Homestead Deduction</td>\n",
       "      <td>Parker Norman</td>\n",
       "      <td></td>\n",
       "      <td>3.0</td>\n",
       "      <td>...</td>\n",
       "      <td>TX</td>\n",
       "      <td>1</td>\n",
       "      <td>0</td>\n",
       "      <td>0</td>\n",
       "      <td>1</td>\n",
       "      <td>7200 WISCONSIN AVE STE 903; BETHESDA, MD20814-...</td>\n",
       "      <td>20814</td>\n",
       "      <td>MD</td>\n",
       "      <td>Bethesda</td>\n",
       "      <td>7200 WISCONSIN AVE STE 903</td>\n",
       "    </tr>\n",
       "    <tr>\n",
       "      <th>4</th>\n",
       "      <td>American University Park</td>\n",
       "      <td>C</td>\n",
       "      <td>12 - Residential-Detached-Single-Fa</td>\n",
       "      <td>No</td>\n",
       "      <td>TX  -Taxable</td>\n",
       "      <td>001 - Residential</td>\n",
       "      <td>** Currently receiving the Homestead Deduction...</td>\n",
       "      <td>Parker Norman</td>\n",
       "      <td></td>\n",
       "      <td>3.0</td>\n",
       "      <td>...</td>\n",
       "      <td>TX</td>\n",
       "      <td>1</td>\n",
       "      <td>1</td>\n",
       "      <td>0</td>\n",
       "      <td>0</td>\n",
       "      <td>4410 49TH ST NW; WASHINGTON, DC20016-4303</td>\n",
       "      <td>20016</td>\n",
       "      <td>DC</td>\n",
       "      <td>Washington</td>\n",
       "      <td>4410 49TH ST NW</td>\n",
       "    </tr>\n",
       "  </tbody>\n",
       "</table>\n",
       "<p>5 rows × 38 columns</p>\n",
       "</div>"
      ],
      "text/plain": [
       "               neighborhood sub_neighborhood  \\\n",
       "0  American University Park                C   \n",
       "1  American University Park                C   \n",
       "2  American University Park                C   \n",
       "3  American University Park                C   \n",
       "4  American University Park                C   \n",
       "\n",
       "                              use_code exception      tax_type  \\\n",
       "0  12 - Residential-Detached-Single-Fa        No  TX  -Taxable   \n",
       "1  12 - Residential-Detached-Single-Fa        No  TX  -Taxable   \n",
       "2  12 - Residential-Detached-Single-Fa        No  TX  -Taxable   \n",
       "3  12 - Residential-Detached-Single-Fa        No  TX  -Taxable   \n",
       "4  12 - Residential-Detached-Single-Fa        No  TX  -Taxable   \n",
       "\n",
       "                         tax_class  \\\n",
       "0  001 - Residential                 \n",
       "1  001 - Residential                 \n",
       "2  001 - Residential                 \n",
       "3  001 - Residential                 \n",
       "4  001 - Residential                 \n",
       "\n",
       "                                           homestead       assessor  \\\n",
       "0  ** Currently receiving the Homestead Deduction...  Parker Norman   \n",
       "1  ** Currently receiving the Homestead Deduction...  Parker Norman   \n",
       "2  ** Currently receiving the Homestead Deduction...  Parker Norman   \n",
       "3          ** Not receiving the Homestead Deduction   Parker Norman   \n",
       "4  ** Currently receiving the Homestead Deduction...  Parker Norman   \n",
       "\n",
       "  building_area  ward             ...             tax_type2  tax_class2  \\\n",
       "0                 3.0             ...                    TX           1   \n",
       "1                 3.0             ...                    TX           1   \n",
       "2                 3.0             ...                    TX           1   \n",
       "3                 3.0             ...                    TX           1   \n",
       "4                 3.0             ...                    TX           1   \n",
       "\n",
       "  homestead_yes homestead_senior homestead_no  \\\n",
       "0             1                0            0   \n",
       "1             1                0            0   \n",
       "2             1                0            0   \n",
       "3             0                0            1   \n",
       "4             1                0            0   \n",
       "\n",
       "                                            address1 zip_code state  \\\n",
       "0  4933 MASSACHUSETTS AVE NW; WASHINGTON, DC20016...    20016    DC   \n",
       "1  4931 MASSACHUSETTS AVE NW; WASHINGTON, DC20016...    20016    DC   \n",
       "2  4923 MASSACHUSETTS AVE NW; WASHINGTON, DC20016...    20016    DC   \n",
       "3  7200 WISCONSIN AVE STE 903; BETHESDA, MD20814-...    20814    MD   \n",
       "4          4410 49TH ST NW; WASHINGTON, DC20016-4303    20016    DC   \n",
       "\n",
       "         city                      street  \n",
       "0  Washington   4933 MASSACHUSETTS AVE NW  \n",
       "1  Washington   4931 MASSACHUSETTS AVE NW  \n",
       "2  Washington   4923 MASSACHUSETTS AVE NW  \n",
       "3    Bethesda  7200 WISCONSIN AVE STE 903  \n",
       "4  Washington             4410 49TH ST NW  \n",
       "\n",
       "[5 rows x 38 columns]"
      ]
     },
     "execution_count": 50,
     "metadata": {},
     "output_type": "execute_result"
    }
   ],
   "source": [
    "df.head()"
   ]
  },
  {
   "cell_type": "code",
   "execution_count": 51,
   "metadata": {},
   "outputs": [
    {
     "data": {
      "text/plain": [
       "(47166, 38)"
      ]
     },
     "execution_count": 51,
     "metadata": {},
     "output_type": "execute_result"
    }
   ],
   "source": [
    "df.shape"
   ]
  },
  {
   "cell_type": "code",
   "execution_count": 52,
   "metadata": {},
   "outputs": [
    {
     "data": {
      "text/plain": [
       "18304"
      ]
     },
     "execution_count": 52,
     "metadata": {},
     "output_type": "execute_result"
    }
   ],
   "source": [
    "df.duplicated(subset=['address']).sum()\n",
    "#20670\n",
    "\n",
    "df.duplicated(subset=['address', 'date']).sum()\n",
    "#18304\n",
    "\n",
    "df.duplicated(subset=['date','address']).sum()\n",
    "#18304"
   ]
  },
  {
   "cell_type": "code",
   "execution_count": 53,
   "metadata": {
    "collapsed": true
   },
   "outputs": [],
   "source": [
    "#dropping! the smallest number\n",
    "df.drop_duplicates(subset=['address', 'date'], inplace = True)\n"
   ]
  },
  {
   "cell_type": "code",
   "execution_count": 54,
   "metadata": {},
   "outputs": [
    {
     "data": {
      "text/plain": [
       "(28862, 38)"
      ]
     },
     "execution_count": 54,
     "metadata": {},
     "output_type": "execute_result"
    }
   ],
   "source": [
    "df.shape"
   ]
  },
  {
   "cell_type": "code",
   "execution_count": 55,
   "metadata": {},
   "outputs": [
    {
     "data": {
      "text/plain": [
       "0"
      ]
     },
     "execution_count": 55,
     "metadata": {},
     "output_type": "execute_result"
    }
   ],
   "source": [
    "df.duplicated(subset=['address', 'date']).sum()\n",
    "#18304"
   ]
  },
  {
   "cell_type": "code",
   "execution_count": 56,
   "metadata": {},
   "outputs": [
    {
     "data": {
      "text/plain": [
       "0"
      ]
     },
     "execution_count": 56,
     "metadata": {},
     "output_type": "execute_result"
    }
   ],
   "source": [
    "df.sort_values(['address'], ascending=False).duplicated().sum()\n"
   ]
  },
  {
   "cell_type": "code",
   "execution_count": 57,
   "metadata": {},
   "outputs": [
    {
     "data": {
      "text/plain": [
       "Index(['neighborhood', 'sub_neighborhood', 'use_code', 'exception', 'tax_type',\n",
       "       'tax_class', 'homestead', 'assessor', 'building_area', 'ward',\n",
       "       'land_area', 'triennial_group', 'owner_name', 'address', 'sale_price',\n",
       "       'date', 'instrument_no', 'sales_code', 'sales_type', 'land_2017',\n",
       "       'land_2018', 'improvements_2017', 'improvements_2018', 'value_2017',\n",
       "       'value_2018', 'assessment_2017', 'assessment_2018', 'use_code2',\n",
       "       'tax_type2', 'tax_class2', 'homestead_yes', 'homestead_senior',\n",
       "       'homestead_no', 'address1', 'zip_code', 'state', 'city', 'street'],\n",
       "      dtype='object')"
      ]
     },
     "execution_count": 57,
     "metadata": {},
     "output_type": "execute_result"
    }
   ],
   "source": [
    "df.columns"
   ]
  },
  {
   "cell_type": "code",
   "execution_count": 58,
   "metadata": {},
   "outputs": [
    {
     "data": {
      "text/plain": [
       "Brookland                   3882\n",
       "Mount Pleasant              3701\n",
       "Brightwood                  3083\n",
       "Kalorama                    2683\n",
       "American University Park    1891\n",
       "Anacostia                   1567\n",
       "Ledroit Park                1537\n",
       "Marshall Heights            1453\n",
       "Lily Ponds                  1106\n",
       "Brentwood                    874\n",
       "Burleith                     646\n",
       "Kent                         644\n",
       "Michigan Park                610\n",
       "Barry Farms                  589\n",
       "Berkley                      572\n",
       "Congress Heights             199\n",
       "Foxhall                      199\n",
       "Hawthorne                    198\n",
       "Fort Lincoln                 198\n",
       "Colonial Village             198\n",
       "Forest Hills                 196\n",
       "Eckington                    195\n",
       "Capitol Hill                 194\n",
       "Garfield                     191\n",
       "Columbia Heights             189\n",
       "Central                      189\n",
       "Chillum                      187\n",
       "Chevy Chase                  187\n",
       "Crestwood                    187\n",
       "Glover Park                  183\n",
       "Foggy Bottom                 176\n",
       "Deanwood                     170\n",
       "Cleveland Park               164\n",
       "Fort Dupont Park             161\n",
       "Hillcrest                    158\n",
       "Georgetown                   154\n",
       "Mass. Ave. Heights           147\n",
       "Bolling Afb & Naval Res        3\n",
       "D.C. Village                   1\n",
       "Name: neighborhood, dtype: int64"
      ]
     },
     "execution_count": 58,
     "metadata": {},
     "output_type": "execute_result"
    }
   ],
   "source": [
    "# ### duplicates\n",
    "# df.sort_values(['address', 'date'], ascending=False).drop_duplicates(inplace = True) \n",
    "# #this drops all of the smaller duplicates based on comments count\n",
    "df.neighborhood.value_counts()"
   ]
  },
  {
   "cell_type": "code",
   "execution_count": 59,
   "metadata": {
    "collapsed": true
   },
   "outputs": [],
   "source": [
    "# df[df.address.duplicated()].iloc[:, 2:15].head(100)"
   ]
  },
  {
   "cell_type": "code",
   "execution_count": 60,
   "metadata": {},
   "outputs": [
    {
     "data": {
      "text/plain": [
       "Index(['neighborhood', 'sub_neighborhood', 'use_code', 'exception', 'tax_type',\n",
       "       'tax_class', 'homestead', 'assessor', 'building_area', 'ward',\n",
       "       'land_area', 'triennial_group', 'owner_name', 'address', 'sale_price',\n",
       "       'date', 'instrument_no', 'sales_code', 'sales_type', 'land_2017',\n",
       "       'land_2018', 'improvements_2017', 'improvements_2018', 'value_2017',\n",
       "       'value_2018', 'assessment_2017', 'assessment_2018', 'use_code2',\n",
       "       'tax_type2', 'tax_class2', 'homestead_yes', 'homestead_senior',\n",
       "       'homestead_no', 'address1', 'zip_code', 'state', 'city', 'street'],\n",
       "      dtype='object')"
      ]
     },
     "execution_count": 60,
     "metadata": {},
     "output_type": "execute_result"
    }
   ],
   "source": [
    "df.columns"
   ]
  },
  {
   "cell_type": "code",
   "execution_count": 61,
   "metadata": {},
   "outputs": [
    {
     "data": {
      "text/plain": [
       "0        12\n",
       "1        12\n",
       "2        12\n",
       "3        12\n",
       "4        12\n",
       "5        12\n",
       "6        12\n",
       "7        12\n",
       "8        12\n",
       "9        12\n",
       "10       12\n",
       "11       12\n",
       "12       12\n",
       "13       12\n",
       "14       12\n",
       "15       12\n",
       "16       12\n",
       "17       12\n",
       "18       12\n",
       "19       12\n",
       "20       12\n",
       "21       12\n",
       "22       94\n",
       "23       12\n",
       "24       12\n",
       "25       12\n",
       "26       12\n",
       "27       12\n",
       "28       12\n",
       "29       12\n",
       "         ..\n",
       "47065    16\n",
       "47066    16\n",
       "47067    16\n",
       "47068    16\n",
       "47069    16\n",
       "47070    16\n",
       "47071    16\n",
       "47072    16\n",
       "47073    16\n",
       "47074    16\n",
       "47075    16\n",
       "47076    16\n",
       "47077    16\n",
       "47078    16\n",
       "47079    23\n",
       "47080    11\n",
       "47081    22\n",
       "47082    16\n",
       "47083    16\n",
       "47084    16\n",
       "47085    16\n",
       "47090    87\n",
       "47097    49\n",
       "47103    42\n",
       "47113    59\n",
       "47120    45\n",
       "47146    48\n",
       "47152    49\n",
       "47165    58\n",
       "47171    41\n",
       "Name: use_code2, Length: 28862, dtype: object"
      ]
     },
     "execution_count": 61,
     "metadata": {},
     "output_type": "execute_result"
    }
   ],
   "source": [
    "df.use_code2"
   ]
  },
  {
   "cell_type": "code",
   "execution_count": 62,
   "metadata": {},
   "outputs": [],
   "source": [
    "# #reducing dataframe to just residential properties\n",
    "# df[df.use_code2.isin([11])].head()\n",
    "\n",
    "# come back to this"
   ]
  },
  {
   "cell_type": "code",
   "execution_count": 63,
   "metadata": {},
   "outputs": [
    {
     "data": {
      "text/html": [
       "<div>\n",
       "<style>\n",
       "    .dataframe thead tr:only-child th {\n",
       "        text-align: right;\n",
       "    }\n",
       "\n",
       "    .dataframe thead th {\n",
       "        text-align: left;\n",
       "    }\n",
       "\n",
       "    .dataframe tbody tr th {\n",
       "        vertical-align: top;\n",
       "    }\n",
       "</style>\n",
       "<table border=\"1\" class=\"dataframe\">\n",
       "  <thead>\n",
       "    <tr style=\"text-align: right;\">\n",
       "      <th></th>\n",
       "      <th>neighborhood</th>\n",
       "      <th>sub_neighborhood</th>\n",
       "      <th>use_code</th>\n",
       "      <th>exception</th>\n",
       "      <th>tax_type</th>\n",
       "      <th>tax_class</th>\n",
       "      <th>homestead</th>\n",
       "      <th>assessor</th>\n",
       "      <th>building_area</th>\n",
       "      <th>ward</th>\n",
       "      <th>...</th>\n",
       "      <th>tax_type2</th>\n",
       "      <th>tax_class2</th>\n",
       "      <th>homestead_yes</th>\n",
       "      <th>homestead_senior</th>\n",
       "      <th>homestead_no</th>\n",
       "      <th>address1</th>\n",
       "      <th>zip_code</th>\n",
       "      <th>state</th>\n",
       "      <th>city</th>\n",
       "      <th>street</th>\n",
       "    </tr>\n",
       "  </thead>\n",
       "  <tbody>\n",
       "    <tr>\n",
       "      <th>47120</th>\n",
       "      <td>Mount Pleasant</td>\n",
       "      <td>C</td>\n",
       "      <td>45 - Store-Restaurant</td>\n",
       "      <td></td>\n",
       "      <td>TX  -Taxable</td>\n",
       "      <td></td>\n",
       "      <td></td>\n",
       "      <td></td>\n",
       "      <td></td>\n",
       "      <td>1.0</td>\n",
       "      <td>...</td>\n",
       "      <td>TX</td>\n",
       "      <td>NaN</td>\n",
       "      <td>0</td>\n",
       "      <td>0</td>\n",
       "      <td>0</td>\n",
       "      <td>13609 TURNMORE RD; SILVER SPRING MD20009</td>\n",
       "      <td>NG MD</td>\n",
       "      <td>RI</td>\n",
       "      <td>Silver</td>\n",
       "      <td>13609 TURNMORE RD</td>\n",
       "    </tr>\n",
       "    <tr>\n",
       "      <th>47146</th>\n",
       "      <td>Mount Pleasant</td>\n",
       "      <td>C</td>\n",
       "      <td>48 - Commercial-Retail-Condo</td>\n",
       "      <td></td>\n",
       "      <td>TX  -Taxable</td>\n",
       "      <td></td>\n",
       "      <td></td>\n",
       "      <td></td>\n",
       "      <td></td>\n",
       "      <td>1.0</td>\n",
       "      <td>...</td>\n",
       "      <td>TX</td>\n",
       "      <td>NaN</td>\n",
       "      <td>0</td>\n",
       "      <td>0</td>\n",
       "      <td>0</td>\n",
       "      <td>750 17TH ST NW SUITE 1100; WASHINGTON, DC20006</td>\n",
       "      <td>N, DC</td>\n",
       "      <td>TO</td>\n",
       "      <td>Washi</td>\n",
       "      <td>750 17TH ST NW SUITE 1100</td>\n",
       "    </tr>\n",
       "    <tr>\n",
       "      <th>47152</th>\n",
       "      <td>Mount Pleasant</td>\n",
       "      <td>B</td>\n",
       "      <td>49 - Commercial-Retail-Misc</td>\n",
       "      <td></td>\n",
       "      <td>TX  -Taxable</td>\n",
       "      <td></td>\n",
       "      <td></td>\n",
       "      <td></td>\n",
       "      <td></td>\n",
       "      <td>1.0</td>\n",
       "      <td>...</td>\n",
       "      <td>TX</td>\n",
       "      <td>NaN</td>\n",
       "      <td>0</td>\n",
       "      <td>0</td>\n",
       "      <td>0</td>\n",
       "      <td>2120 L ST NW STE 315; WASHINGTON, DC20037-1527</td>\n",
       "      <td>20037</td>\n",
       "      <td>DC</td>\n",
       "      <td>Washington</td>\n",
       "      <td>2120 L ST NW STE 315</td>\n",
       "    </tr>\n",
       "    <tr>\n",
       "      <th>47165</th>\n",
       "      <td>Mount Pleasant</td>\n",
       "      <td>B</td>\n",
       "      <td>58 - Commercial-Office-Condo</td>\n",
       "      <td></td>\n",
       "      <td>TX  -Taxable</td>\n",
       "      <td></td>\n",
       "      <td></td>\n",
       "      <td></td>\n",
       "      <td></td>\n",
       "      <td>1.0</td>\n",
       "      <td>...</td>\n",
       "      <td>TX</td>\n",
       "      <td>NaN</td>\n",
       "      <td>0</td>\n",
       "      <td>0</td>\n",
       "      <td>0</td>\n",
       "      <td>1729 NEWTON ST NW; WASHINGTON, DC20850</td>\n",
       "      <td>N, DC</td>\n",
       "      <td>TO</td>\n",
       "      <td>Washi</td>\n",
       "      <td>1729 NEWTON ST NW</td>\n",
       "    </tr>\n",
       "    <tr>\n",
       "      <th>47171</th>\n",
       "      <td>Mount Pleasant</td>\n",
       "      <td>B</td>\n",
       "      <td>41 - Store-Small 1-Story</td>\n",
       "      <td></td>\n",
       "      <td>TX  -Taxable</td>\n",
       "      <td></td>\n",
       "      <td></td>\n",
       "      <td></td>\n",
       "      <td></td>\n",
       "      <td>1.0</td>\n",
       "      <td>...</td>\n",
       "      <td>TX</td>\n",
       "      <td>NaN</td>\n",
       "      <td>0</td>\n",
       "      <td>0</td>\n",
       "      <td>0</td>\n",
       "      <td>12125 HERITAGE PARK CIR; SILVER SPRING MD20906...</td>\n",
       "      <td>20906</td>\n",
       "      <td>MD</td>\n",
       "      <td>Silver Sprin</td>\n",
       "      <td>12125 HERITAGE PARK CIR</td>\n",
       "    </tr>\n",
       "  </tbody>\n",
       "</table>\n",
       "<p>5 rows × 38 columns</p>\n",
       "</div>"
      ],
      "text/plain": [
       "         neighborhood sub_neighborhood                             use_code  \\\n",
       "47120  Mount Pleasant                C  45 - Store-Restaurant                 \n",
       "47146  Mount Pleasant                C  48 - Commercial-Retail-Condo          \n",
       "47152  Mount Pleasant                B  49 - Commercial-Retail-Misc           \n",
       "47165  Mount Pleasant                B  58 - Commercial-Office-Condo          \n",
       "47171  Mount Pleasant                B  41 - Store-Small 1-Story              \n",
       "\n",
       "      exception      tax_type tax_class homestead assessor building_area  \\\n",
       "47120            TX  -Taxable                                              \n",
       "47146            TX  -Taxable                                              \n",
       "47152            TX  -Taxable                                              \n",
       "47165            TX  -Taxable                                              \n",
       "47171            TX  -Taxable                                              \n",
       "\n",
       "       ward            ...             tax_type2  tax_class2 homestead_yes  \\\n",
       "47120   1.0            ...                    TX         NaN             0   \n",
       "47146   1.0            ...                    TX         NaN             0   \n",
       "47152   1.0            ...                    TX         NaN             0   \n",
       "47165   1.0            ...                    TX         NaN             0   \n",
       "47171   1.0            ...                    TX         NaN             0   \n",
       "\n",
       "      homestead_senior homestead_no  \\\n",
       "47120                0            0   \n",
       "47146                0            0   \n",
       "47152                0            0   \n",
       "47165                0            0   \n",
       "47171                0            0   \n",
       "\n",
       "                                                address1 zip_code state  \\\n",
       "47120           13609 TURNMORE RD; SILVER SPRING MD20009    NG MD    RI   \n",
       "47146     750 17TH ST NW SUITE 1100; WASHINGTON, DC20006    N, DC    TO   \n",
       "47152     2120 L ST NW STE 315; WASHINGTON, DC20037-1527    20037    DC   \n",
       "47165             1729 NEWTON ST NW; WASHINGTON, DC20850    N, DC    TO   \n",
       "47171  12125 HERITAGE PARK CIR; SILVER SPRING MD20906...    20906    MD   \n",
       "\n",
       "               city                     street  \n",
       "47120        Silver          13609 TURNMORE RD  \n",
       "47146         Washi  750 17TH ST NW SUITE 1100  \n",
       "47152    Washington       2120 L ST NW STE 315  \n",
       "47165         Washi          1729 NEWTON ST NW  \n",
       "47171  Silver Sprin    12125 HERITAGE PARK CIR  \n",
       "\n",
       "[5 rows x 38 columns]"
      ]
     },
     "execution_count": 63,
     "metadata": {},
     "output_type": "execute_result"
    }
   ],
   "source": [
    "df.tail()"
   ]
  },
  {
   "cell_type": "code",
   "execution_count": 64,
   "metadata": {},
   "outputs": [
    {
     "data": {
      "text/plain": [
       "Index(['neighborhood', 'sub_neighborhood', 'use_code', 'exception', 'tax_type',\n",
       "       'tax_class', 'homestead', 'assessor', 'building_area', 'ward',\n",
       "       'land_area', 'triennial_group', 'owner_name', 'address', 'sale_price',\n",
       "       'date', 'instrument_no', 'sales_code', 'sales_type', 'land_2017',\n",
       "       'land_2018', 'improvements_2017', 'improvements_2018', 'value_2017',\n",
       "       'value_2018', 'assessment_2017', 'assessment_2018', 'use_code2',\n",
       "       'tax_type2', 'tax_class2', 'homestead_yes', 'homestead_senior',\n",
       "       'homestead_no', 'address1', 'zip_code', 'state', 'city', 'street'],\n",
       "      dtype='object')"
      ]
     },
     "execution_count": 64,
     "metadata": {},
     "output_type": "execute_result"
    }
   ],
   "source": [
    "df.columns"
   ]
  },
  {
   "cell_type": "code",
   "execution_count": 65,
   "metadata": {},
   "outputs": [
    {
     "data": {
      "text/plain": [
       "Index(['neighborhood', 'sub_neighborhood', 'use_code', 'exception', 'tax_type',\n",
       "       'tax_class', 'homestead', 'assessor', 'building_area', 'ward',\n",
       "       'land_area', 'triennial_group', 'owner_name', 'address', 'sale_price',\n",
       "       'date', 'instrument_no', 'sales_code', 'sales_type', 'land_2017',\n",
       "       'land_2018', 'improvements_2017', 'improvements_2018', 'value_2017',\n",
       "       'value_2018', 'assessment_2017', 'assessment_2018', 'use_code2',\n",
       "       'tax_type2', 'tax_class2', 'homestead_yes', 'homestead_senior',\n",
       "       'homestead_no', 'address1', 'zip_code', 'state', 'city', 'street'],\n",
       "      dtype='object')"
      ]
     },
     "execution_count": 65,
     "metadata": {},
     "output_type": "execute_result"
    }
   ],
   "source": [
    "df.columns"
   ]
  },
  {
   "cell_type": "code",
   "execution_count": 66,
   "metadata": {
    "collapsed": true
   },
   "outputs": [],
   "source": [
    "import datetime as dt\n",
    "import datetime\n",
    "df['date']= pd.to_datetime(df.date)"
   ]
  },
  {
   "cell_type": "code",
   "execution_count": 67,
   "metadata": {
    "collapsed": true
   },
   "outputs": [],
   "source": [
    "df['qtr'] = df.date.dt.quarter\n",
    "df['month'] = df.date.dt.month\n",
    "df['year'] = df.date.dt.year"
   ]
  },
  {
   "cell_type": "code",
   "execution_count": 71,
   "metadata": {
    "collapsed": true
   },
   "outputs": [],
   "source": [
    "df.to_csv('otr_clean.csv', index = False, encoding='utf-8')"
   ]
  }
 ],
 "metadata": {
  "kernelspec": {
   "display_name": "Python 3",
   "language": "python",
   "name": "python3"
  },
  "language_info": {
   "codemirror_mode": {
    "name": "ipython",
    "version": 3
   },
   "file_extension": ".py",
   "mimetype": "text/x-python",
   "name": "python",
   "nbconvert_exporter": "python",
   "pygments_lexer": "ipython3",
   "version": "3.6.3"
  }
 },
 "nbformat": 4,
 "nbformat_minor": 2
}

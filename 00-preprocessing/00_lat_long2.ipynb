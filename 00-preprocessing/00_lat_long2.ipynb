{
 "cells": [
  {
   "cell_type": "markdown",
   "metadata": {},
   "source": [
    "checklist:\n",
    "\n",
    "\n",
    "Drops\n",
    "- address1 drop\n",
    "- exception: clean\n",
    "- new_value: dropped it (doesn't contain anything)\n",
    "- current_value: dropped it (doesn't contain anything\n",
    "- tax_type: clean (create a data dictionary for this column) \n",
    "- instrument_no\n",
    "- sub_neighborhood': A, B, C...huh? \n",
    "- 'tax_class: all the same (residential)\n",
    "- homestead: I dummied this\n",
    "- building_area: nulls\n",
    "- triennial_group: no cleaning necessary (float)\n",
    "- address: I parsed this\n",
    "- instrument_no: no clue\n",
    "- tax_class2: 1 for residential\n",
    "- building_area: empty (for now. check again once you get the full dataset)\n",
    "\n",
    "cleaned\n",
    "- assessor: cleaned (titlecase)\n",
    "- tax_class2: cleaned and filtered\n",
    "- use_code: clean (create a data dictionary for this column)\n",
    "- neighborhood: clean\n",
    "- owner_name: cleaned (converted to title case)\n",
    "- address: cleaned (spend an hour on this!\n",
    "- sale_price: cleaned (dropped commas and dollar signs)\n",
    "- land_area: clean (dropped commas)\n",
    "- ward: float status. cleaning not needed\n",
    "- land_2017: cleaned (dropped commas and dollar signs)\n",
    "- land_2018: cleaned (dropped commas and dollar signs)\n",
    "- improvements_2017: cleaned (dropped commas and dollar signs)\n",
    "- improvements_2018: cleaned (dropped commas and dollar signs)\n",
    "- value_2017: cleaned (dropped commas and dollar signs)\n",
    "- value_2018: cleaned (dropped commas and dollar signs)\n",
    "- assessment_2017: cleaned (dropped commas and dollar signs)\n",
    "- assessment_2018: cleaned (dropped commas and dollar signs)\n",
    "\n",
    "filters:\n",
    "- drop duplicates\n",
    "- tax_class2: cleaned and filtered\n",
    "- tax_class2 = 1\n",
    "- sale_price > 100\n",
    "- zip_code: need to filter to ^2\\d+ zip codes\n",
    "- city: non-dc values (look at city column)\n",
    "- code: 1, only residential\n",
    "\n",
    "Columns created\n",
    "- homestead: dummified and column cleaned [drop for arima]\n",
    "- zip_code: created [need to filter]\n",
    "- address_1 column\n",
    "- qtr\n",
    "- month\n",
    "- year\n",
    "\n",
    "I need to:\n",
    "- consider dropping land_area < '4'\n",
    "- look at home values that are \\$1\n",
    "- ### add lats and longs\n",
    "- eda (sns plot)\n",
    "- search for 'Not Available'\n",
    "\n",
    "I can if I have time:\n",
    "- use_code: create a data dictionary for this column) [super important]\n",
    "- tax_class2: create a data dictionary for this column)\n",
    "- look into subneighborhood: #wtf is this?\n"
   ]
  },
  {
   "cell_type": "code",
   "execution_count": 1,
   "metadata": {
    "collapsed": true
   },
   "outputs": [],
   "source": [
    "import numpy as np\n",
    "import pandas as pd\n",
    "import math"
   ]
  },
  {
   "cell_type": "code",
   "execution_count": 2,
   "metadata": {},
   "outputs": [
    {
     "data": {
      "text/html": [
       "<div>\n",
       "<style>\n",
       "    .dataframe thead tr:only-child th {\n",
       "        text-align: right;\n",
       "    }\n",
       "\n",
       "    .dataframe thead th {\n",
       "        text-align: left;\n",
       "    }\n",
       "\n",
       "    .dataframe tbody tr th {\n",
       "        vertical-align: top;\n",
       "    }\n",
       "</style>\n",
       "<table border=\"1\" class=\"dataframe\">\n",
       "  <thead>\n",
       "    <tr style=\"text-align: right;\">\n",
       "      <th></th>\n",
       "      <th>neighborhood</th>\n",
       "      <th>assessor</th>\n",
       "      <th>ward</th>\n",
       "      <th>land_area</th>\n",
       "      <th>owner_name</th>\n",
       "      <th>sale_price</th>\n",
       "      <th>sales_code</th>\n",
       "      <th>sales_type</th>\n",
       "      <th>land_2017</th>\n",
       "      <th>land_2018</th>\n",
       "      <th>...</th>\n",
       "      <th>homestead_yes</th>\n",
       "      <th>homestead_senior</th>\n",
       "      <th>homestead_no</th>\n",
       "      <th>zip_code</th>\n",
       "      <th>state</th>\n",
       "      <th>city</th>\n",
       "      <th>address_1</th>\n",
       "      <th>qtr</th>\n",
       "      <th>month</th>\n",
       "      <th>year</th>\n",
       "    </tr>\n",
       "    <tr>\n",
       "      <th>date</th>\n",
       "      <th></th>\n",
       "      <th></th>\n",
       "      <th></th>\n",
       "      <th></th>\n",
       "      <th></th>\n",
       "      <th></th>\n",
       "      <th></th>\n",
       "      <th></th>\n",
       "      <th></th>\n",
       "      <th></th>\n",
       "      <th></th>\n",
       "      <th></th>\n",
       "      <th></th>\n",
       "      <th></th>\n",
       "      <th></th>\n",
       "      <th></th>\n",
       "      <th></th>\n",
       "      <th></th>\n",
       "      <th></th>\n",
       "      <th></th>\n",
       "      <th></th>\n",
       "    </tr>\n",
       "  </thead>\n",
       "  <tbody>\n",
       "    <tr>\n",
       "      <th>2015-06-29</th>\n",
       "      <td>American University Park</td>\n",
       "      <td>Parker Norman</td>\n",
       "      <td>3.0</td>\n",
       "      <td>7500</td>\n",
       "      <td>Dan I Magder</td>\n",
       "      <td>1073000</td>\n",
       "      <td>MARKET</td>\n",
       "      <td>I - IMPROVED</td>\n",
       "      <td>526200.0</td>\n",
       "      <td>550650.0</td>\n",
       "      <td>...</td>\n",
       "      <td>1</td>\n",
       "      <td>0</td>\n",
       "      <td>0</td>\n",
       "      <td>20016.0</td>\n",
       "      <td>DC</td>\n",
       "      <td>WASHINGTON</td>\n",
       "      <td>4933 MASSACHUSETTS AVE NW</td>\n",
       "      <td>2</td>\n",
       "      <td>6</td>\n",
       "      <td>2015</td>\n",
       "    </tr>\n",
       "    <tr>\n",
       "      <th>2013-07-15</th>\n",
       "      <td>American University Park</td>\n",
       "      <td>Parker Norman</td>\n",
       "      <td>3.0</td>\n",
       "      <td>6000</td>\n",
       "      <td>Thomas J Leonard</td>\n",
       "      <td>880000</td>\n",
       "      <td>MARKET</td>\n",
       "      <td>I - IMPROVED</td>\n",
       "      <td>480570.0</td>\n",
       "      <td>504050.0</td>\n",
       "      <td>...</td>\n",
       "      <td>1</td>\n",
       "      <td>0</td>\n",
       "      <td>0</td>\n",
       "      <td>20016.0</td>\n",
       "      <td>DC</td>\n",
       "      <td>WASHINGTON</td>\n",
       "      <td>4923 MASSACHUSETTS AVE NW</td>\n",
       "      <td>3</td>\n",
       "      <td>7</td>\n",
       "      <td>2013</td>\n",
       "    </tr>\n",
       "    <tr>\n",
       "      <th>2011-12-27</th>\n",
       "      <td>American University Park</td>\n",
       "      <td>Parker Norman</td>\n",
       "      <td>3.0</td>\n",
       "      <td>5296</td>\n",
       "      <td>Jennifer Budoff</td>\n",
       "      <td>817000</td>\n",
       "      <td>MARKET</td>\n",
       "      <td>I - IMPROVED</td>\n",
       "      <td>494910.0</td>\n",
       "      <td>519860.0</td>\n",
       "      <td>...</td>\n",
       "      <td>1</td>\n",
       "      <td>0</td>\n",
       "      <td>0</td>\n",
       "      <td>20016.0</td>\n",
       "      <td>DC</td>\n",
       "      <td>WASHINGTON</td>\n",
       "      <td>4410 49TH ST NW</td>\n",
       "      <td>4</td>\n",
       "      <td>12</td>\n",
       "      <td>2011</td>\n",
       "    </tr>\n",
       "    <tr>\n",
       "      <th>2010-07-07</th>\n",
       "      <td>American University Park</td>\n",
       "      <td>Parker Norman</td>\n",
       "      <td>3.0</td>\n",
       "      <td>6000</td>\n",
       "      <td>Hyesook Chung</td>\n",
       "      <td>880000</td>\n",
       "      <td>MARKET</td>\n",
       "      <td>I - IMPROVED</td>\n",
       "      <td>505860.0</td>\n",
       "      <td>530580.0</td>\n",
       "      <td>...</td>\n",
       "      <td>0</td>\n",
       "      <td>0</td>\n",
       "      <td>1</td>\n",
       "      <td>20016.0</td>\n",
       "      <td>DC</td>\n",
       "      <td>WASHINGTON</td>\n",
       "      <td>5047 MASSACHUSETTS AVE NW</td>\n",
       "      <td>3</td>\n",
       "      <td>7</td>\n",
       "      <td>2010</td>\n",
       "    </tr>\n",
       "    <tr>\n",
       "      <th>2017-11-27</th>\n",
       "      <td>American University Park</td>\n",
       "      <td>Parker Norman</td>\n",
       "      <td>3.0</td>\n",
       "      <td>5017</td>\n",
       "      <td>John W Hanna</td>\n",
       "      <td>1040000</td>\n",
       "      <td>MARKET</td>\n",
       "      <td>I - IMPROVED</td>\n",
       "      <td>490110.0</td>\n",
       "      <td>515150.0</td>\n",
       "      <td>...</td>\n",
       "      <td>1</td>\n",
       "      <td>0</td>\n",
       "      <td>0</td>\n",
       "      <td>20016.0</td>\n",
       "      <td>DC</td>\n",
       "      <td>WASHINGTON</td>\n",
       "      <td>4918 ALBEMARLE ST NW</td>\n",
       "      <td>4</td>\n",
       "      <td>11</td>\n",
       "      <td>2017</td>\n",
       "    </tr>\n",
       "  </tbody>\n",
       "</table>\n",
       "<p>5 rows × 28 columns</p>\n",
       "</div>"
      ],
      "text/plain": [
       "                        neighborhood       assessor  ward  land_area  \\\n",
       "date                                                                   \n",
       "2015-06-29  American University Park  Parker Norman   3.0       7500   \n",
       "2013-07-15  American University Park  Parker Norman   3.0       6000   \n",
       "2011-12-27  American University Park  Parker Norman   3.0       5296   \n",
       "2010-07-07  American University Park  Parker Norman   3.0       6000   \n",
       "2017-11-27  American University Park  Parker Norman   3.0       5017   \n",
       "\n",
       "                  owner_name  sale_price sales_code    sales_type  land_2017  \\\n",
       "date                                                                           \n",
       "2015-06-29      Dan I Magder     1073000     MARKET  I - IMPROVED   526200.0   \n",
       "2013-07-15  Thomas J Leonard      880000     MARKET  I - IMPROVED   480570.0   \n",
       "2011-12-27   Jennifer Budoff      817000     MARKET  I - IMPROVED   494910.0   \n",
       "2010-07-07     Hyesook Chung      880000     MARKET  I - IMPROVED   505860.0   \n",
       "2017-11-27      John W Hanna     1040000     MARKET  I - IMPROVED   490110.0   \n",
       "\n",
       "            land_2018  ...   homestead_yes  homestead_senior  homestead_no  \\\n",
       "date                   ...                                                   \n",
       "2015-06-29   550650.0  ...               1                 0             0   \n",
       "2013-07-15   504050.0  ...               1                 0             0   \n",
       "2011-12-27   519860.0  ...               1                 0             0   \n",
       "2010-07-07   530580.0  ...               0                 0             1   \n",
       "2017-11-27   515150.0  ...               1                 0             0   \n",
       "\n",
       "            zip_code  state        city                  address_1 qtr  month  \\\n",
       "date                                                                            \n",
       "2015-06-29   20016.0     DC  WASHINGTON  4933 MASSACHUSETTS AVE NW   2      6   \n",
       "2013-07-15   20016.0     DC  WASHINGTON  4923 MASSACHUSETTS AVE NW   3      7   \n",
       "2011-12-27   20016.0     DC  WASHINGTON            4410 49TH ST NW   4     12   \n",
       "2010-07-07   20016.0     DC  WASHINGTON  5047 MASSACHUSETTS AVE NW   3      7   \n",
       "2017-11-27   20016.0     DC  WASHINGTON       4918 ALBEMARLE ST NW   4     11   \n",
       "\n",
       "            year  \n",
       "date              \n",
       "2015-06-29  2015  \n",
       "2013-07-15  2013  \n",
       "2011-12-27  2011  \n",
       "2010-07-07  2010  \n",
       "2017-11-27  2017  \n",
       "\n",
       "[5 rows x 28 columns]"
      ]
     },
     "execution_count": 2,
     "metadata": {},
     "output_type": "execute_result"
    }
   ],
   "source": [
    "df = pd.read_csv('otr_clean.csv', index_col='date')\n",
    "df.head()"
   ]
  },
  {
   "cell_type": "code",
   "execution_count": 3,
   "metadata": {
    "collapsed": true
   },
   "outputs": [],
   "source": [
    "from geopy.geocoders import Nominatim\n",
    "nom = Nominatim()"
   ]
  },
  {
   "cell_type": "code",
   "execution_count": 4,
   "metadata": {},
   "outputs": [
    {
     "data": {
      "text/plain": [
       "Index(['neighborhood', 'assessor', 'ward', 'land_area', 'owner_name',\n",
       "       'sale_price', 'sales_code', 'sales_type', 'land_2017', 'land_2018',\n",
       "       'improvements_2017', 'improvements_2018', 'value_2017', 'value_2018',\n",
       "       'assessment_2017', 'assessment_2018', 'use_code2', 'tax_type2',\n",
       "       'homestead_yes', 'homestead_senior', 'homestead_no', 'zip_code',\n",
       "       'state', 'city', 'address_1', 'qtr', 'month', 'year'],\n",
       "      dtype='object')"
      ]
     },
     "execution_count": 4,
     "metadata": {},
     "output_type": "execute_result"
    }
   ],
   "source": [
    "df.columns"
   ]
  },
  {
   "cell_type": "code",
   "execution_count": 5,
   "metadata": {
    "collapsed": true
   },
   "outputs": [],
   "source": [
    "df['zip_code']= df['zip_code'].astype(str)"
   ]
  },
  {
   "cell_type": "code",
   "execution_count": 6,
   "metadata": {
    "collapsed": true
   },
   "outputs": [],
   "source": [
    "df.dropna(inplace=True)"
   ]
  },
  {
   "cell_type": "code",
   "execution_count": 7,
   "metadata": {
    "collapsed": true
   },
   "outputs": [],
   "source": [
    "df['full_address'] = df['address_1'] + \" \" + df['city'] + \" \" + df['state']+ \" \" + df['zip_code']"
   ]
  },
  {
   "cell_type": "code",
   "execution_count": 11,
   "metadata": {},
   "outputs": [],
   "source": [
    "# df['coord'] = df['full_address'].apply(nom.geocode, timeout=10)\n",
    "\n",
    "# This didn't work :("
   ]
  },
  {
   "cell_type": "code",
   "execution_count": 13,
   "metadata": {},
   "outputs": [
    {
     "name": "stdout",
     "output_type": "stream",
     "text": [
      "Flatiron Building, 175, 5th Avenue, Flatiron Building, Manhattan Community Board 5, New York County, NYC, New York, 10010, United States of America\n"
     ]
    }
   ],
   "source": [
    "location = nom.geocode(\"175 5th Avenue NYC\")\n",
    "print(location.address)"
   ]
  },
  {
   "cell_type": "code",
   "execution_count": 14,
   "metadata": {
    "collapsed": true
   },
   "outputs": [],
   "source": [
    "# df['latitiude'] = df['coord'].apply(lambda x: x.latitude if x != None else None)\n",
    "# df['longitude'] = df['coord'].apply(lambda x: x.longitude if x != None else None)"
   ]
  },
  {
   "cell_type": "code",
   "execution_count": 16,
   "metadata": {
    "collapsed": true
   },
   "outputs": [],
   "source": [
    "df.to_csv('otr_clean.csv', encoding='utf-8')"
   ]
  },
  {
   "cell_type": "code",
   "execution_count": 396,
   "metadata": {
    "collapsed": true
   },
   "outputs": [],
   "source": [
    "# df.to_csv('otr_ready_for_eda.csv', encoding='utf-8')"
   ]
  },
  {
   "cell_type": "code",
   "execution_count": null,
   "metadata": {
    "collapsed": true
   },
   "outputs": [],
   "source": []
  }
 ],
 "metadata": {
  "kernelspec": {
   "display_name": "Python 3",
   "language": "python",
   "name": "python3"
  },
  "language_info": {
   "codemirror_mode": {
    "name": "ipython",
    "version": 3
   },
   "file_extension": ".py",
   "mimetype": "text/x-python",
   "name": "python",
   "nbconvert_exporter": "python",
   "pygments_lexer": "ipython3",
   "version": "3.6.3"
  }
 },
 "nbformat": 4,
 "nbformat_minor": 2
}

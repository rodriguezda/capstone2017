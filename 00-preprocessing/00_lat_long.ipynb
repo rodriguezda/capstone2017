{
 "cells": [
  {
   "cell_type": "markdown",
   "metadata": {},
   "source": [
    "checklist:\n",
    "\n",
    "\n",
    "Drops\n",
    "- address1 drop\n",
    "- exception: clean\n",
    "- new_value: dropped it (doesn't contain anything)\n",
    "- current_value: dropped it (doesn't contain anything\n",
    "- tax_type: clean (create a data dictionary for this column) \n",
    "- instrument_no\n",
    "- sub_neighborhood': A, B, C...huh? \n",
    "- 'tax_class: all the same (residential)\n",
    "- homestead: I dummied this\n",
    "- building_area: nulls\n",
    "- triennial_group: no cleaning necessary (float)\n",
    "- address: I parsed this\n",
    "- instrument_no: no clue\n",
    "- tax_class2: 1 for residential\n",
    "- building_area: empty (for now. check again once you get the full dataset)\n",
    "\n",
    "cleaned\n",
    "- assessor: cleaned (titlecase)\n",
    "- tax_class2: cleaned and filtered\n",
    "- use_code: clean (create a data dictionary for this column)\n",
    "- neighborhood: clean\n",
    "- owner_name: cleaned (converted to title case)\n",
    "- address: cleaned (spend an hour on this!\n",
    "- sale_price: cleaned (dropped commas and dollar signs)\n",
    "- land_area: clean (dropped commas)\n",
    "- ward: float status. cleaning not needed\n",
    "- land_2017: cleaned (dropped commas and dollar signs)\n",
    "- land_2018: cleaned (dropped commas and dollar signs)\n",
    "- improvements_2017: cleaned (dropped commas and dollar signs)\n",
    "- improvements_2018: cleaned (dropped commas and dollar signs)\n",
    "- value_2017: cleaned (dropped commas and dollar signs)\n",
    "- value_2018: cleaned (dropped commas and dollar signs)\n",
    "- assessment_2017: cleaned (dropped commas and dollar signs)\n",
    "- assessment_2018: cleaned (dropped commas and dollar signs)\n",
    "\n",
    "filters:\n",
    "- drop duplicates\n",
    "- tax_class2: cleaned and filtered\n",
    "- tax_class2 = 1\n",
    "- sale_price > 100\n",
    "- zip_code: need to filter to ^2\\d+ zip codes\n",
    "- city: non-dc values (look at city column)\n",
    "- code: 1, only residential\n",
    "\n",
    "Columns created\n",
    "- homestead: dummified and column cleaned [drop for arima]\n",
    "- zip_code: created [need to filter]\n",
    "- address_1 column\n",
    "- qtr\n",
    "- month\n",
    "- year\n",
    "\n",
    "I need to:\n",
    "- consider dropping land_area < '4'\n",
    "- look at home values that are \\$1\n",
    "- ### add lats and longs\n",
    "- eda (sns plot)\n",
    "- search for 'Not Available'\n",
    "\n",
    "I can if I have time:\n",
    "- use_code: create a data dictionary for this column) [super important]\n",
    "- tax_class2: create a data dictionary for this column)\n",
    "- look into subneighborhood: #wtf is this?\n"
   ]
  },
  {
   "cell_type": "code",
   "execution_count": 14,
   "metadata": {
    "collapsed": true
   },
   "outputs": [],
   "source": [
    "import numpy as np\n",
    "import pandas as pd\n",
    "import math"
   ]
  },
  {
   "cell_type": "code",
   "execution_count": 15,
   "metadata": {},
   "outputs": [
    {
     "name": "stderr",
     "output_type": "stream",
     "text": [
      "/anaconda/lib/python3.6/site-packages/IPython/core/interactiveshell.py:2717: DtypeWarning: Columns (16) have mixed types. Specify dtype option on import or set low_memory=False.\n",
      "  interactivity=interactivity, compiler=compiler, result=result)\n"
     ]
    }
   ],
   "source": [
    "path = 'otr copy3.csv'\n",
    "df = pd.read_csv(path, parse_dates=['date'], infer_datetime_format=True)"
   ]
  },
  {
   "cell_type": "code",
   "execution_count": 16,
   "metadata": {
    "collapsed": true
   },
   "outputs": [],
   "source": [
    "#df = df.address.notnull() #http://bit.ly/2zk56jD"
   ]
  },
  {
   "cell_type": "code",
   "execution_count": 17,
   "metadata": {
    "collapsed": true
   },
   "outputs": [],
   "source": [
    "df.replace('', np.nan, inplace=True) #I KNOW that there are fucking empty cells. gotta fill them in."
   ]
  },
  {
   "cell_type": "code",
   "execution_count": 18,
   "metadata": {
    "collapsed": true
   },
   "outputs": [],
   "source": [
    "df.dropna(inplace=True)"
   ]
  },
  {
   "cell_type": "code",
   "execution_count": 19,
   "metadata": {
    "collapsed": true
   },
   "outputs": [],
   "source": [
    "df['neighborhood'] = df['neighborhood'].str.title()\n",
    "df['neighborhood'] = df['neighborhood'].str.replace('American Univ. Park','American University Park')\n",
    "df['neighborhood'] = df['neighborhood'].str.replace('N. Cleveland Park','North Cleveland Park')"
   ]
  },
  {
   "cell_type": "code",
   "execution_count": 20,
   "metadata": {},
   "outputs": [
    {
     "data": {
      "text/plain": [
       "array(['American University Park', 'Anacostia', 'Barry Farms', 'Berkley',\n",
       "       'Bolling Afb & Naval Res', 'Brentwood', 'Brightwood', 'Brookland',\n",
       "       'Burleith', 'Capitol Hill', 'Central', 'Chevy Chase', 'Chillum',\n",
       "       'Cleveland Park', 'Colonial Village', 'Columbia Heights',\n",
       "       'Congress Heights', 'Crestwood', 'D.C. Village', 'Deanwood',\n",
       "       'Eckington', 'Foggy Bottom', 'Forest Hills', 'Fort Dupont Park',\n",
       "       'Fort Lincoln', 'Foxhall', 'Garfield', 'Georgetown', 'Glover Park',\n",
       "       'Hawthorne', 'Hillcrest', 'Kalorama', 'Kent', 'Ledroit Park',\n",
       "       'Lily Ponds', 'Marshall Heights', 'Mass. Ave. Heights',\n",
       "       'Michigan Park', 'Mount Pleasant', 'N. Anacostia Park',\n",
       "       'North Cleveland Park', 'Observatory Circle', 'Old City I'], dtype=object)"
      ]
     },
     "execution_count": 20,
     "metadata": {},
     "output_type": "execute_result"
    }
   ],
   "source": [
    "df['neighborhood'].unique() #this is not exhustive, but at least it's clean now"
   ]
  },
  {
   "cell_type": "code",
   "execution_count": 21,
   "metadata": {
    "collapsed": true
   },
   "outputs": [],
   "source": [
    "df['use_code2'] = df['use_code'].str.extract('(^\\d{1,})', expand = True)"
   ]
  },
  {
   "cell_type": "code",
   "execution_count": 22,
   "metadata": {
    "collapsed": true
   },
   "outputs": [],
   "source": [
    "df['use_code2']=df['use_code2'].str.strip()"
   ]
  },
  {
   "cell_type": "code",
   "execution_count": 23,
   "metadata": {
    "collapsed": true
   },
   "outputs": [],
   "source": [
    "df.drop(['use_code'], 1, inplace = True)"
   ]
  },
  {
   "cell_type": "code",
   "execution_count": 24,
   "metadata": {
    "collapsed": true
   },
   "outputs": [],
   "source": [
    "df['tax_type'] = df['tax_type'].str.replace(u'\\xa0', u' ')\n",
    "#\\xa0 is  non-breaking space in Latin1 (ISO 8859-1). replace with a space"
   ]
  },
  {
   "cell_type": "code",
   "execution_count": 25,
   "metadata": {
    "collapsed": true
   },
   "outputs": [],
   "source": [
    "df['tax_type2'] = df['tax_type'].str.extract('(^\\w{2})', expand = True)"
   ]
  },
  {
   "cell_type": "code",
   "execution_count": 26,
   "metadata": {
    "collapsed": true
   },
   "outputs": [],
   "source": [
    "df.drop(['tax_type'], 1, inplace = True)"
   ]
  },
  {
   "cell_type": "code",
   "execution_count": 27,
   "metadata": {
    "collapsed": true
   },
   "outputs": [],
   "source": [
    "df['tax_type2']=df['tax_type2'].str.strip()"
   ]
  },
  {
   "cell_type": "code",
   "execution_count": 28,
   "metadata": {
    "collapsed": true
   },
   "outputs": [],
   "source": [
    "df['tax_class'] = df['tax_class'].str.replace(u'\\xa0', u' ')"
   ]
  },
  {
   "cell_type": "code",
   "execution_count": 29,
   "metadata": {},
   "outputs": [
    {
     "data": {
      "text/plain": [
       "array(['001 - Residential              ',\n",
       "       '002 - Commercial               ',\n",
       "       '003 - Vacant                   ',\n",
       "       '004 - Blighted                 ',\n",
       "       '000 - Non-Taxable              ', ' '], dtype=object)"
      ]
     },
     "execution_count": 29,
     "metadata": {},
     "output_type": "execute_result"
    }
   ],
   "source": [
    "df['tax_class'].unique()"
   ]
  },
  {
   "cell_type": "code",
   "execution_count": 30,
   "metadata": {
    "collapsed": true
   },
   "outputs": [],
   "source": [
    "df['tax_class2'] = df['tax_class'].str.extract(r'([0-9]\\b)', expand = True)"
   ]
  },
  {
   "cell_type": "code",
   "execution_count": 31,
   "metadata": {},
   "outputs": [
    {
     "data": {
      "text/plain": [
       "1    66085\n",
       "2     2679\n",
       "3      245\n",
       "4       92\n",
       "0       10\n",
       "Name: tax_class2, dtype: int64"
      ]
     },
     "execution_count": 31,
     "metadata": {},
     "output_type": "execute_result"
    }
   ],
   "source": [
    "df['tax_class2'].value_counts() # we just care about the category 1: residential"
   ]
  },
  {
   "cell_type": "code",
   "execution_count": 32,
   "metadata": {
    "collapsed": true
   },
   "outputs": [],
   "source": [
    "df = df[df.tax_class2 == '1']\n",
    "# here is where I filter only for ones (residential tax class)"
   ]
  },
  {
   "cell_type": "code",
   "execution_count": 33,
   "metadata": {},
   "outputs": [
    {
     "data": {
      "text/plain": [
       "1    66085\n",
       "Name: tax_class2, dtype: int64"
      ]
     },
     "execution_count": 33,
     "metadata": {},
     "output_type": "execute_result"
    }
   ],
   "source": [
    "df['tax_class2'].value_counts()"
   ]
  },
  {
   "cell_type": "code",
   "execution_count": 34,
   "metadata": {},
   "outputs": [
    {
     "data": {
      "text/plain": [
       "** Currently receiving the Homestead Deduction*.                     33745\n",
       "** Not receiving the Homestead Deduction                             28587\n",
       "** Currently receiving the Senior Citizen Homestead Deduction*.       3753\n",
       "Name: homestead, dtype: int64"
      ]
     },
     "execution_count": 34,
     "metadata": {},
     "output_type": "execute_result"
    }
   ],
   "source": [
    "df.homestead.value_counts()"
   ]
  },
  {
   "cell_type": "code",
   "execution_count": 35,
   "metadata": {},
   "outputs": [
    {
     "data": {
      "text/plain": [
       "Index(['** Currently receiving the Homestead Deduction*.  ',\n",
       "       '** Currently receiving the Senior Citizen Homestead Deduction*.  ',\n",
       "       '** Not receiving the Homestead Deduction '],\n",
       "      dtype='object')"
      ]
     },
     "execution_count": 35,
     "metadata": {},
     "output_type": "execute_result"
    }
   ],
   "source": [
    "homestead1 = pd.get_dummies(df.homestead).iloc[:, :]\n",
    "homestead1.columns"
   ]
  },
  {
   "cell_type": "code",
   "execution_count": 36,
   "metadata": {
    "collapsed": true
   },
   "outputs": [],
   "source": [
    "homestead1.columns = ['homestead_yes', 'homestead_senior', 'homestead_no']\n",
    "df = pd.concat([df, homestead1], axis=1)"
   ]
  },
  {
   "cell_type": "code",
   "execution_count": 37,
   "metadata": {
    "collapsed": true
   },
   "outputs": [],
   "source": [
    "# consider dropping one of the homestead categories, or all three. for arima it's not necessary"
   ]
  },
  {
   "cell_type": "code",
   "execution_count": 38,
   "metadata": {
    "collapsed": true
   },
   "outputs": [],
   "source": [
    "df['assessor'] = df['assessor'].str.title()"
   ]
  },
  {
   "cell_type": "code",
   "execution_count": 39,
   "metadata": {
    "collapsed": true
   },
   "outputs": [],
   "source": [
    "df['land_area'] = df['land_area'].str.replace(',', '')"
   ]
  },
  {
   "cell_type": "code",
   "execution_count": 40,
   "metadata": {
    "collapsed": true
   },
   "outputs": [],
   "source": [
    "## consider dropping land_area < '4'"
   ]
  },
  {
   "cell_type": "code",
   "execution_count": 41,
   "metadata": {
    "collapsed": true
   },
   "outputs": [],
   "source": [
    "df['owner_name'] = df['owner_name'].str.title()"
   ]
  },
  {
   "cell_type": "code",
   "execution_count": 42,
   "metadata": {
    "collapsed": true
   },
   "outputs": [],
   "source": [
    "df['sale_price'] = df['sale_price'].str.replace(',', '').str.replace('$', '')"
   ]
  },
  {
   "cell_type": "code",
   "execution_count": 43,
   "metadata": {
    "collapsed": true
   },
   "outputs": [],
   "source": [
    "df.drop(['current_value','new_value'], axis=1, inplace=True) # we don't need these"
   ]
  },
  {
   "cell_type": "code",
   "execution_count": 44,
   "metadata": {
    "collapsed": true
   },
   "outputs": [],
   "source": [
    "df['land_2017']= df['land_2017'].str.replace(',', '').str.replace('$', '')"
   ]
  },
  {
   "cell_type": "code",
   "execution_count": 45,
   "metadata": {
    "collapsed": true
   },
   "outputs": [],
   "source": [
    "df['land_2018']= df['land_2018'].str.replace(',', '').str.replace('$', '')"
   ]
  },
  {
   "cell_type": "code",
   "execution_count": 46,
   "metadata": {
    "collapsed": true
   },
   "outputs": [],
   "source": [
    "df['improvements_2017']= df['improvements_2017'].str.replace(',', '').str.replace('$', '')"
   ]
  },
  {
   "cell_type": "code",
   "execution_count": 47,
   "metadata": {
    "collapsed": true
   },
   "outputs": [],
   "source": [
    "df['improvements_2018']= df['improvements_2018'].str.replace(',', '').str.replace('$', '')"
   ]
  },
  {
   "cell_type": "code",
   "execution_count": 48,
   "metadata": {
    "collapsed": true
   },
   "outputs": [],
   "source": [
    "df['value_2017']= df['value_2017'].str.replace(',', '').str.replace('$', '')"
   ]
  },
  {
   "cell_type": "code",
   "execution_count": 49,
   "metadata": {
    "collapsed": true
   },
   "outputs": [],
   "source": [
    "df['value_2018']= df['value_2018'].str.replace(',', '').str.replace('$', '')"
   ]
  },
  {
   "cell_type": "code",
   "execution_count": 50,
   "metadata": {
    "collapsed": true
   },
   "outputs": [],
   "source": [
    "df['assessment_2017']= df['assessment_2017'].str.replace(',', '').str.replace('$', '')"
   ]
  },
  {
   "cell_type": "code",
   "execution_count": 51,
   "metadata": {
    "collapsed": true
   },
   "outputs": [],
   "source": [
    "df['assessment_2018']= df['assessment_2018'].str.replace(',', '').str.replace('$', '')"
   ]
  },
  {
   "cell_type": "code",
   "execution_count": null,
   "metadata": {
    "collapsed": true
   },
   "outputs": [],
   "source": [
    "# the address column is the mailing address, not the destination. UGHHH"
   ]
  },
  {
   "cell_type": "code",
   "execution_count": 52,
   "metadata": {
    "collapsed": true
   },
   "outputs": [],
   "source": [
    "df['address'] = df['address'].str.replace('                  ', ', ')"
   ]
  },
  {
   "cell_type": "code",
   "execution_count": 53,
   "metadata": {
    "collapsed": true
   },
   "outputs": [],
   "source": [
    "df['address'] = df['address'].str.replace('                 ', ', ')"
   ]
  },
  {
   "cell_type": "code",
   "execution_count": 54,
   "metadata": {
    "collapsed": true
   },
   "outputs": [],
   "source": [
    "df['address'] = df['address'].str.replace('    ', ' ')"
   ]
  },
  {
   "cell_type": "code",
   "execution_count": 55,
   "metadata": {
    "collapsed": true
   },
   "outputs": [],
   "source": [
    "df['address'] = df['address'].str.replace('   ', ' ')"
   ]
  },
  {
   "cell_type": "code",
   "execution_count": 56,
   "metadata": {
    "collapsed": true
   },
   "outputs": [],
   "source": [
    "df['address'] = df['address'].str.replace('  ', ' ')"
   ]
  },
  {
   "cell_type": "code",
   "execution_count": 57,
   "metadata": {
    "collapsed": true
   },
   "outputs": [],
   "source": [
    "df['address'] = df['address'].str.strip()"
   ]
  },
  {
   "cell_type": "code",
   "execution_count": 58,
   "metadata": {},
   "outputs": [
    {
     "data": {
      "text/plain": [
       "Index(['neighborhood', 'sub_neighborhood', 'exception', 'tax_class',\n",
       "       'homestead', 'assessor', 'building_area', 'ward', 'land_area',\n",
       "       'triennial_group', 'owner_name', 'address', 'sale_price', 'date',\n",
       "       'instrument_no', 'sales_code', 'sales_type', 'land_2017', 'land_2018',\n",
       "       'improvements_2017', 'improvements_2018', 'value_2017', 'value_2018',\n",
       "       'assessment_2017', 'assessment_2018', 'use_code2', 'tax_type2',\n",
       "       'tax_class2', 'homestead_yes', 'homestead_senior', 'homestead_no'],\n",
       "      dtype='object')"
      ]
     },
     "execution_count": 58,
     "metadata": {},
     "output_type": "execute_result"
    }
   ],
   "source": [
    "df.columns"
   ]
  },
  {
   "cell_type": "code",
   "execution_count": 59,
   "metadata": {
    "collapsed": true
   },
   "outputs": [],
   "source": [
    "df['address1'] = df['address'] #this gives me something to work with"
   ]
  },
  {
   "cell_type": "code",
   "execution_count": 60,
   "metadata": {
    "collapsed": true
   },
   "outputs": [],
   "source": [
    "df['address1'] = df['address1'].str.strip() #trimming "
   ]
  },
  {
   "cell_type": "code",
   "execution_count": 61,
   "metadata": {
    "collapsed": true
   },
   "outputs": [],
   "source": [
    "df['address1'] = df['address1'].str.replace(',', '')"
   ]
  },
  {
   "cell_type": "code",
   "execution_count": 62,
   "metadata": {
    "collapsed": true
   },
   "outputs": [],
   "source": [
    "df['address1'] = df['address1'].str.replace('-', ' ')"
   ]
  },
  {
   "cell_type": "code",
   "execution_count": 63,
   "metadata": {
    "collapsed": true
   },
   "outputs": [],
   "source": [
    "df['address1'] = df['address1'].str.replace(';', '')"
   ]
  },
  {
   "cell_type": "code",
   "execution_count": 64,
   "metadata": {
    "collapsed": true
   },
   "outputs": [],
   "source": [
    "df['address1'] = df['address1'].str.replace('  ', ' ')"
   ]
  },
  {
   "cell_type": "code",
   "execution_count": 65,
   "metadata": {
    "collapsed": true
   },
   "outputs": [],
   "source": [
    "df['address1'] = df['address1'].str.replace(u'\\xa0', u' ')"
   ]
  },
  {
   "cell_type": "code",
   "execution_count": 66,
   "metadata": {
    "collapsed": true
   },
   "outputs": [],
   "source": [
    "df['zip_code'] = df['address1'].str.extract('(\\d{5,})', expand = True)"
   ]
  },
  {
   "cell_type": "code",
   "execution_count": 67,
   "metadata": {
    "collapsed": true
   },
   "outputs": [],
   "source": [
    "df['state'] = df['address1'].str.extract('(\\d{2,}$)', expand = True)"
   ]
  },
  {
   "cell_type": "code",
   "execution_count": 68,
   "metadata": {
    "collapsed": true
   },
   "outputs": [],
   "source": [
    "df['address1'] = df['address1'].str.replace('\\d{2,}$', '')"
   ]
  },
  {
   "cell_type": "code",
   "execution_count": 69,
   "metadata": {
    "collapsed": true
   },
   "outputs": [],
   "source": [
    "df['address1'] = df['address1'].str.strip() #trimming "
   ]
  },
  {
   "cell_type": "code",
   "execution_count": 70,
   "metadata": {
    "collapsed": true
   },
   "outputs": [],
   "source": [
    "df['address1'] = df['address1'].str.replace('\\d+$', '') "
   ]
  },
  {
   "cell_type": "code",
   "execution_count": 71,
   "metadata": {
    "collapsed": true
   },
   "outputs": [],
   "source": [
    "df['state'] = df['address1'].str.extract('(\\S+$)', expand = True)"
   ]
  },
  {
   "cell_type": "code",
   "execution_count": 72,
   "metadata": {
    "collapsed": true
   },
   "outputs": [],
   "source": [
    "df['address1'] = df['address1'].str.replace('\\S+$', '') "
   ]
  },
  {
   "cell_type": "code",
   "execution_count": 73,
   "metadata": {
    "collapsed": true
   },
   "outputs": [],
   "source": [
    "df['address1'] = df['address1'].str.strip() #trimming "
   ]
  },
  {
   "cell_type": "code",
   "execution_count": 74,
   "metadata": {
    "collapsed": true
   },
   "outputs": [],
   "source": [
    "df['city'] = df['address1'].str.extract('(\\S+$)', expand = True)"
   ]
  },
  {
   "cell_type": "code",
   "execution_count": 75,
   "metadata": {
    "collapsed": true
   },
   "outputs": [],
   "source": [
    "df['address_1'] = df['address1'].str.replace('(\\S+$)', '')"
   ]
  },
  {
   "cell_type": "code",
   "execution_count": 76,
   "metadata": {
    "collapsed": true
   },
   "outputs": [],
   "source": [
    "df['address_1'] = df['address_1'].str.strip() #trimming "
   ]
  },
  {
   "cell_type": "code",
   "execution_count": 77,
   "metadata": {
    "collapsed": true
   },
   "outputs": [],
   "source": [
    "#created address_1 column"
   ]
  },
  {
   "cell_type": "code",
   "execution_count": 78,
   "metadata": {
    "collapsed": true
   },
   "outputs": [],
   "source": [
    "df.drop(['address1'], 1, inplace = True)"
   ]
  },
  {
   "cell_type": "code",
   "execution_count": 79,
   "metadata": {},
   "outputs": [
    {
     "data": {
      "text/html": [
       "<div>\n",
       "<style>\n",
       "    .dataframe thead tr:only-child th {\n",
       "        text-align: right;\n",
       "    }\n",
       "\n",
       "    .dataframe thead th {\n",
       "        text-align: left;\n",
       "    }\n",
       "\n",
       "    .dataframe tbody tr th {\n",
       "        vertical-align: top;\n",
       "    }\n",
       "</style>\n",
       "<table border=\"1\" class=\"dataframe\">\n",
       "  <thead>\n",
       "    <tr style=\"text-align: right;\">\n",
       "      <th></th>\n",
       "      <th>neighborhood</th>\n",
       "      <th>sub_neighborhood</th>\n",
       "      <th>exception</th>\n",
       "      <th>tax_class</th>\n",
       "      <th>homestead</th>\n",
       "      <th>assessor</th>\n",
       "      <th>building_area</th>\n",
       "      <th>ward</th>\n",
       "      <th>land_area</th>\n",
       "      <th>triennial_group</th>\n",
       "      <th>...</th>\n",
       "      <th>use_code2</th>\n",
       "      <th>tax_type2</th>\n",
       "      <th>tax_class2</th>\n",
       "      <th>homestead_yes</th>\n",
       "      <th>homestead_senior</th>\n",
       "      <th>homestead_no</th>\n",
       "      <th>zip_code</th>\n",
       "      <th>state</th>\n",
       "      <th>city</th>\n",
       "      <th>address_1</th>\n",
       "    </tr>\n",
       "  </thead>\n",
       "  <tbody>\n",
       "    <tr>\n",
       "      <th>0</th>\n",
       "      <td>American University Park</td>\n",
       "      <td>C</td>\n",
       "      <td>No</td>\n",
       "      <td>001 - Residential</td>\n",
       "      <td>** Currently receiving the Homestead Deduction...</td>\n",
       "      <td>Parker Norman</td>\n",
       "      <td></td>\n",
       "      <td>3.0</td>\n",
       "      <td>7500</td>\n",
       "      <td>3.0</td>\n",
       "      <td>...</td>\n",
       "      <td>12</td>\n",
       "      <td>TX</td>\n",
       "      <td>1</td>\n",
       "      <td>1</td>\n",
       "      <td>0</td>\n",
       "      <td>0</td>\n",
       "      <td>20016</td>\n",
       "      <td>DC</td>\n",
       "      <td>WASHINGTON</td>\n",
       "      <td>4933 MASSACHUSETTS AVE NW</td>\n",
       "    </tr>\n",
       "    <tr>\n",
       "      <th>1</th>\n",
       "      <td>American University Park</td>\n",
       "      <td>C</td>\n",
       "      <td>No</td>\n",
       "      <td>001 - Residential</td>\n",
       "      <td>** Currently receiving the Homestead Deduction...</td>\n",
       "      <td>Parker Norman</td>\n",
       "      <td></td>\n",
       "      <td>3.0</td>\n",
       "      <td>7500</td>\n",
       "      <td>3.0</td>\n",
       "      <td>...</td>\n",
       "      <td>12</td>\n",
       "      <td>TX</td>\n",
       "      <td>1</td>\n",
       "      <td>1</td>\n",
       "      <td>0</td>\n",
       "      <td>0</td>\n",
       "      <td>20016</td>\n",
       "      <td>DC</td>\n",
       "      <td>WASHINGTON</td>\n",
       "      <td>4931 MASSACHUSETTS AVE NW</td>\n",
       "    </tr>\n",
       "    <tr>\n",
       "      <th>2</th>\n",
       "      <td>American University Park</td>\n",
       "      <td>C</td>\n",
       "      <td>No</td>\n",
       "      <td>001 - Residential</td>\n",
       "      <td>** Currently receiving the Homestead Deduction...</td>\n",
       "      <td>Parker Norman</td>\n",
       "      <td></td>\n",
       "      <td>3.0</td>\n",
       "      <td>6000</td>\n",
       "      <td>3.0</td>\n",
       "      <td>...</td>\n",
       "      <td>12</td>\n",
       "      <td>TX</td>\n",
       "      <td>1</td>\n",
       "      <td>1</td>\n",
       "      <td>0</td>\n",
       "      <td>0</td>\n",
       "      <td>20016</td>\n",
       "      <td>DC</td>\n",
       "      <td>WASHINGTON</td>\n",
       "      <td>4923 MASSACHUSETTS AVE NW</td>\n",
       "    </tr>\n",
       "    <tr>\n",
       "      <th>3</th>\n",
       "      <td>American University Park</td>\n",
       "      <td>C</td>\n",
       "      <td>No</td>\n",
       "      <td>001 - Residential</td>\n",
       "      <td>** Not receiving the Homestead Deduction</td>\n",
       "      <td>Parker Norman</td>\n",
       "      <td></td>\n",
       "      <td>3.0</td>\n",
       "      <td>6486</td>\n",
       "      <td>3.0</td>\n",
       "      <td>...</td>\n",
       "      <td>12</td>\n",
       "      <td>TX</td>\n",
       "      <td>1</td>\n",
       "      <td>0</td>\n",
       "      <td>0</td>\n",
       "      <td>1</td>\n",
       "      <td>20814</td>\n",
       "      <td>MD</td>\n",
       "      <td>BETHESDA</td>\n",
       "      <td>7200 WISCONSIN AVE STE 903</td>\n",
       "    </tr>\n",
       "    <tr>\n",
       "      <th>4</th>\n",
       "      <td>American University Park</td>\n",
       "      <td>C</td>\n",
       "      <td>No</td>\n",
       "      <td>001 - Residential</td>\n",
       "      <td>** Currently receiving the Homestead Deduction...</td>\n",
       "      <td>Parker Norman</td>\n",
       "      <td></td>\n",
       "      <td>3.0</td>\n",
       "      <td>5296</td>\n",
       "      <td>3.0</td>\n",
       "      <td>...</td>\n",
       "      <td>12</td>\n",
       "      <td>TX</td>\n",
       "      <td>1</td>\n",
       "      <td>1</td>\n",
       "      <td>0</td>\n",
       "      <td>0</td>\n",
       "      <td>20016</td>\n",
       "      <td>DC</td>\n",
       "      <td>WASHINGTON</td>\n",
       "      <td>4410 49TH ST NW</td>\n",
       "    </tr>\n",
       "  </tbody>\n",
       "</table>\n",
       "<p>5 rows × 35 columns</p>\n",
       "</div>"
      ],
      "text/plain": [
       "               neighborhood sub_neighborhood exception  \\\n",
       "0  American University Park                C        No   \n",
       "1  American University Park                C        No   \n",
       "2  American University Park                C        No   \n",
       "3  American University Park                C        No   \n",
       "4  American University Park                C        No   \n",
       "\n",
       "                         tax_class  \\\n",
       "0  001 - Residential                 \n",
       "1  001 - Residential                 \n",
       "2  001 - Residential                 \n",
       "3  001 - Residential                 \n",
       "4  001 - Residential                 \n",
       "\n",
       "                                           homestead       assessor  \\\n",
       "0  ** Currently receiving the Homestead Deduction...  Parker Norman   \n",
       "1  ** Currently receiving the Homestead Deduction...  Parker Norman   \n",
       "2  ** Currently receiving the Homestead Deduction...  Parker Norman   \n",
       "3          ** Not receiving the Homestead Deduction   Parker Norman   \n",
       "4  ** Currently receiving the Homestead Deduction...  Parker Norman   \n",
       "\n",
       "  building_area  ward land_area  triennial_group             ...              \\\n",
       "0                 3.0      7500              3.0             ...               \n",
       "1                 3.0      7500              3.0             ...               \n",
       "2                 3.0      6000              3.0             ...               \n",
       "3                 3.0      6486              3.0             ...               \n",
       "4                 3.0      5296              3.0             ...               \n",
       "\n",
       "  use_code2 tax_type2 tax_class2 homestead_yes homestead_senior homestead_no  \\\n",
       "0        12        TX          1             1                0            0   \n",
       "1        12        TX          1             1                0            0   \n",
       "2        12        TX          1             1                0            0   \n",
       "3        12        TX          1             0                0            1   \n",
       "4        12        TX          1             1                0            0   \n",
       "\n",
       "  zip_code state        city                   address_1  \n",
       "0    20016    DC  WASHINGTON   4933 MASSACHUSETTS AVE NW  \n",
       "1    20016    DC  WASHINGTON   4931 MASSACHUSETTS AVE NW  \n",
       "2    20016    DC  WASHINGTON   4923 MASSACHUSETTS AVE NW  \n",
       "3    20814    MD    BETHESDA  7200 WISCONSIN AVE STE 903  \n",
       "4    20016    DC  WASHINGTON             4410 49TH ST NW  \n",
       "\n",
       "[5 rows x 35 columns]"
      ]
     },
     "execution_count": 79,
     "metadata": {},
     "output_type": "execute_result"
    }
   ],
   "source": [
    "df.head()"
   ]
  },
  {
   "cell_type": "code",
   "execution_count": 81,
   "metadata": {
    "collapsed": true
   },
   "outputs": [],
   "source": [
    "#if I drop the non-dc addresses, I will keep 87% of my dataset"
   ]
  },
  {
   "cell_type": "code",
   "execution_count": 84,
   "metadata": {
    "collapsed": true
   },
   "outputs": [],
   "source": [
    "df.drop_duplicates(['date', 'address_1'], inplace = True)"
   ]
  },
  {
   "cell_type": "code",
   "execution_count": 87,
   "metadata": {},
   "outputs": [
    {
     "data": {
      "text/plain": [
       "(42105, 35)"
      ]
     },
     "execution_count": 87,
     "metadata": {},
     "output_type": "execute_result"
    }
   ],
   "source": [
    "df.shape"
   ]
  },
  {
   "cell_type": "code",
   "execution_count": 88,
   "metadata": {
    "collapsed": true
   },
   "outputs": [],
   "source": [
    "#this is a really important part. Dropping duplicates. be very careful here"
   ]
  },
  {
   "cell_type": "code",
   "execution_count": 89,
   "metadata": {
    "collapsed": true
   },
   "outputs": [],
   "source": [
    "#dropping! the smallest number\n",
    "df.drop_duplicates(subset=['address', 'date'], inplace = True)"
   ]
  },
  {
   "cell_type": "code",
   "execution_count": 90,
   "metadata": {},
   "outputs": [
    {
     "data": {
      "text/plain": [
       "(42105, 35)"
      ]
     },
     "execution_count": 90,
     "metadata": {},
     "output_type": "execute_result"
    }
   ],
   "source": [
    "df.shape"
   ]
  },
  {
   "cell_type": "code",
   "execution_count": 97,
   "metadata": {},
   "outputs": [
    {
     "data": {
      "text/plain": [
       "0.8859042869017931"
      ]
     },
     "execution_count": 97,
     "metadata": {},
     "output_type": "execute_result"
    }
   ],
   "source": [
    "len(df[df.state=='DC'])/df.shape[0]\n"
   ]
  },
  {
   "cell_type": "code",
   "execution_count": 103,
   "metadata": {
    "collapsed": true
   },
   "outputs": [],
   "source": [
    "df['sales_type'] = df['sales_type'].str.replace(u'\\xa0', u' ')\n",
    "#\\xa0 is  non-breaking space in Latin1 (ISO 8859-1). replace with a space"
   ]
  },
  {
   "cell_type": "code",
   "execution_count": 112,
   "metadata": {
    "collapsed": true
   },
   "outputs": [],
   "source": [
    "df['sales_type'].replace(' ', np.nan, inplace=True) #I KNOW that there are fucking empty cells. gotta fill them in."
   ]
  },
  {
   "cell_type": "code",
   "execution_count": 123,
   "metadata": {},
   "outputs": [
    {
     "data": {
      "text/plain": [
       "array(['I - IMPROVED', nan, 'V - VACANT'], dtype=object)"
      ]
     },
     "execution_count": 123,
     "metadata": {},
     "output_type": "execute_result"
    }
   ],
   "source": [
    "df.sales_type.unique()"
   ]
  },
  {
   "cell_type": "code",
   "execution_count": 124,
   "metadata": {
    "collapsed": true
   },
   "outputs": [],
   "source": [
    "df['sale_price'].replace('Not Available', np.nan, inplace = True)"
   ]
  },
  {
   "cell_type": "code",
   "execution_count": 133,
   "metadata": {},
   "outputs": [
    {
     "data": {
      "text/plain": [
       "(42105, 38)"
      ]
     },
     "execution_count": 133,
     "metadata": {},
     "output_type": "execute_result"
    }
   ],
   "source": [
    "df.shape"
   ]
  },
  {
   "cell_type": "code",
   "execution_count": 134,
   "metadata": {
    "collapsed": true
   },
   "outputs": [],
   "source": [
    "df.dropna(subset=['sale_price'], how='any', inplace = True)"
   ]
  },
  {
   "cell_type": "code",
   "execution_count": 139,
   "metadata": {
    "collapsed": true
   },
   "outputs": [],
   "source": [
    "import datetime as dt\n",
    "import datetime\n",
    "df['date']= pd.to_datetime(df.date)"
   ]
  },
  {
   "cell_type": "code",
   "execution_count": 140,
   "metadata": {
    "collapsed": true
   },
   "outputs": [],
   "source": [
    "df['qtr'] = df.date.dt.quarter\n",
    "df['month'] = df.date.dt.month\n",
    "df['year'] = df.date.dt.year"
   ]
  },
  {
   "cell_type": "code",
   "execution_count": 155,
   "metadata": {
    "collapsed": true
   },
   "outputs": [],
   "source": [
    "df['owner_name'] = df['owner_name'].str.replace(u'\\xa0', u' ')"
   ]
  },
  {
   "cell_type": "code",
   "execution_count": 157,
   "metadata": {
    "collapsed": true
   },
   "outputs": [],
   "source": [
    "df['owner_name'] = df['owner_name'].str.strip()"
   ]
  },
  {
   "cell_type": "code",
   "execution_count": 164,
   "metadata": {},
   "outputs": [
    {
     "data": {
      "text/plain": [
       "(30282, 38)"
      ]
     },
     "execution_count": 164,
     "metadata": {},
     "output_type": "execute_result"
    }
   ],
   "source": [
    "df.shape"
   ]
  },
  {
   "cell_type": "code",
   "execution_count": 182,
   "metadata": {},
   "outputs": [
    {
     "data": {
      "text/plain": [
       "neighborhood                 object\n",
       "sub_neighborhood             object\n",
       "exception                    object\n",
       "tax_class                    object\n",
       "homestead                    object\n",
       "assessor                     object\n",
       "building_area                object\n",
       "ward                        float64\n",
       "land_area                    object\n",
       "triennial_group             float64\n",
       "owner_name                   object\n",
       "address                      object\n",
       "sale_price                   object\n",
       "date                 datetime64[ns]\n",
       "instrument_no                object\n",
       "sales_code                   object\n",
       "sales_type                   object\n",
       "land_2017                    object\n",
       "land_2018                    object\n",
       "improvements_2017            object\n",
       "improvements_2018            object\n",
       "value_2017                   object\n",
       "value_2018                   object\n",
       "assessment_2017              object\n",
       "assessment_2018              object\n",
       "use_code2                    object\n",
       "tax_type2                    object\n",
       "tax_class2                   object\n",
       "homestead_yes                 uint8\n",
       "homestead_senior              uint8\n",
       "homestead_no                  uint8\n",
       "zip_code                     object\n",
       "state                        object\n",
       "city                         object\n",
       "address_1                    object\n",
       "qtr                           int64\n",
       "month                         int64\n",
       "year                          int64\n",
       "dtype: object"
      ]
     },
     "execution_count": 182,
     "metadata": {},
     "output_type": "execute_result"
    }
   ],
   "source": [
    "df.dtypes"
   ]
  },
  {
   "cell_type": "code",
   "execution_count": 183,
   "metadata": {
    "collapsed": true
   },
   "outputs": [],
   "source": [
    "# df.loc[df.sale_price <= 3, :]"
   ]
  },
  {
   "cell_type": "code",
   "execution_count": 232,
   "metadata": {
    "collapsed": true
   },
   "outputs": [],
   "source": [
    "df = df[df.state == 'DC']\n"
   ]
  },
  {
   "cell_type": "code",
   "execution_count": 240,
   "metadata": {},
   "outputs": [
    {
     "data": {
      "text/plain": [
       "array(['1'], dtype=object)"
      ]
     },
     "execution_count": 240,
     "metadata": {},
     "output_type": "execute_result"
    }
   ],
   "source": [
    "df.tax_class2.unique()"
   ]
  },
  {
   "cell_type": "code",
   "execution_count": 236,
   "metadata": {
    "collapsed": true
   },
   "outputs": [],
   "source": [
    "cols = ['sub_neighborhood', 'exception', 'tax_class',\n",
    "       'homestead', 'building_area',\n",
    "       'triennial_group', 'address',\n",
    "       'instrument_no', 'tax_class2']"
   ]
  },
  {
   "cell_type": "code",
   "execution_count": 241,
   "metadata": {
    "collapsed": true
   },
   "outputs": [],
   "source": [
    "df.drop(cols, 1, inplace = True) ## very important cell here!"
   ]
  },
  {
   "cell_type": "code",
   "execution_count": 249,
   "metadata": {
    "collapsed": true
   },
   "outputs": [],
   "source": [
    "df = df[df.year >= 2000] ## very important cell here!"
   ]
  },
  {
   "cell_type": "code",
   "execution_count": null,
   "metadata": {
    "collapsed": true
   },
   "outputs": [],
   "source": [
    "#sales_type has NaN"
   ]
  },
  {
   "cell_type": "code",
   "execution_count": 282,
   "metadata": {
    "collapsed": true
   },
   "outputs": [],
   "source": [
    "df['improvements_2017'].replace('Not Available', np.NaN, inplace = True)\n",
    "df['improvements_2018'].replace('Not Available', np.NaN, inplace = True)"
   ]
  },
  {
   "cell_type": "code",
   "execution_count": 284,
   "metadata": {
    "collapsed": true
   },
   "outputs": [],
   "source": [
    "for column in df[['land_2017','land_2018', 'improvements_2017',\n",
    "                 'improvements_2018','value_2017', 'value_2018', 'assessment_2017','assessment_2018']]:         \n",
    "    df[column] = df[column].astype(float) ### need to filter"
   ]
  },
  {
   "cell_type": "code",
   "execution_count": 285,
   "metadata": {},
   "outputs": [
    {
     "data": {
      "text/html": [
       "<div>\n",
       "<style>\n",
       "    .dataframe thead tr:only-child th {\n",
       "        text-align: right;\n",
       "    }\n",
       "\n",
       "    .dataframe thead th {\n",
       "        text-align: left;\n",
       "    }\n",
       "\n",
       "    .dataframe tbody tr th {\n",
       "        vertical-align: top;\n",
       "    }\n",
       "</style>\n",
       "<table border=\"1\" class=\"dataframe\">\n",
       "  <thead>\n",
       "    <tr style=\"text-align: right;\">\n",
       "      <th></th>\n",
       "      <th>ward</th>\n",
       "      <th>land_2017</th>\n",
       "      <th>land_2018</th>\n",
       "      <th>improvements_2017</th>\n",
       "      <th>improvements_2018</th>\n",
       "      <th>value_2017</th>\n",
       "      <th>value_2018</th>\n",
       "      <th>assessment_2017</th>\n",
       "      <th>assessment_2018</th>\n",
       "      <th>homestead_yes</th>\n",
       "      <th>homestead_senior</th>\n",
       "      <th>homestead_no</th>\n",
       "      <th>qtr</th>\n",
       "      <th>month</th>\n",
       "      <th>year</th>\n",
       "    </tr>\n",
       "  </thead>\n",
       "  <tbody>\n",
       "    <tr>\n",
       "      <th>count</th>\n",
       "      <td>26747.000000</td>\n",
       "      <td>2.674700e+04</td>\n",
       "      <td>2.674700e+04</td>\n",
       "      <td>2.652300e+04</td>\n",
       "      <td>2.655700e+04</td>\n",
       "      <td>2.674700e+04</td>\n",
       "      <td>2.674700e+04</td>\n",
       "      <td>2.674700e+04</td>\n",
       "      <td>2.674700e+04</td>\n",
       "      <td>26747.000000</td>\n",
       "      <td>26747.000000</td>\n",
       "      <td>26747.000000</td>\n",
       "      <td>26747.000000</td>\n",
       "      <td>26747.000000</td>\n",
       "      <td>26747.000000</td>\n",
       "    </tr>\n",
       "    <tr>\n",
       "      <th>mean</th>\n",
       "      <td>4.506898</td>\n",
       "      <td>2.909949e+05</td>\n",
       "      <td>3.065432e+05</td>\n",
       "      <td>3.739863e+05</td>\n",
       "      <td>3.880637e+05</td>\n",
       "      <td>6.618492e+05</td>\n",
       "      <td>6.918502e+05</td>\n",
       "      <td>5.955662e+05</td>\n",
       "      <td>6.284687e+05</td>\n",
       "      <td>0.645493</td>\n",
       "      <td>0.025274</td>\n",
       "      <td>0.329233</td>\n",
       "      <td>2.580775</td>\n",
       "      <td>6.753169</td>\n",
       "      <td>2010.585449</td>\n",
       "    </tr>\n",
       "    <tr>\n",
       "      <th>std</th>\n",
       "      <td>2.080194</td>\n",
       "      <td>3.881424e+05</td>\n",
       "      <td>3.976415e+05</td>\n",
       "      <td>9.406325e+05</td>\n",
       "      <td>9.853857e+05</td>\n",
       "      <td>1.279731e+06</td>\n",
       "      <td>1.327380e+06</td>\n",
       "      <td>1.279933e+06</td>\n",
       "      <td>1.327516e+06</td>\n",
       "      <td>0.478373</td>\n",
       "      <td>0.156959</td>\n",
       "      <td>0.469944</td>\n",
       "      <td>1.069908</td>\n",
       "      <td>3.274468</td>\n",
       "      <td>5.061668</td>\n",
       "    </tr>\n",
       "    <tr>\n",
       "      <th>min</th>\n",
       "      <td>1.000000</td>\n",
       "      <td>8.700000e+02</td>\n",
       "      <td>8.700000e+02</td>\n",
       "      <td>1.000000e+02</td>\n",
       "      <td>1.000000e+02</td>\n",
       "      <td>8.700000e+02</td>\n",
       "      <td>8.700000e+02</td>\n",
       "      <td>7.600000e+02</td>\n",
       "      <td>8.700000e+02</td>\n",
       "      <td>0.000000</td>\n",
       "      <td>0.000000</td>\n",
       "      <td>0.000000</td>\n",
       "      <td>1.000000</td>\n",
       "      <td>1.000000</td>\n",
       "      <td>2000.000000</td>\n",
       "    </tr>\n",
       "    <tr>\n",
       "      <th>25%</th>\n",
       "      <td>3.000000</td>\n",
       "      <td>1.210000e+05</td>\n",
       "      <td>1.262400e+05</td>\n",
       "      <td>1.874450e+05</td>\n",
       "      <td>1.957900e+05</td>\n",
       "      <td>3.557100e+05</td>\n",
       "      <td>3.719550e+05</td>\n",
       "      <td>2.911360e+05</td>\n",
       "      <td>3.119400e+05</td>\n",
       "      <td>0.000000</td>\n",
       "      <td>0.000000</td>\n",
       "      <td>0.000000</td>\n",
       "      <td>2.000000</td>\n",
       "      <td>4.000000</td>\n",
       "      <td>2007.000000</td>\n",
       "    </tr>\n",
       "    <tr>\n",
       "      <th>50%</th>\n",
       "      <td>5.000000</td>\n",
       "      <td>2.477800e+05</td>\n",
       "      <td>2.666900e+05</td>\n",
       "      <td>2.821900e+05</td>\n",
       "      <td>2.923700e+05</td>\n",
       "      <td>5.419900e+05</td>\n",
       "      <td>5.636000e+05</td>\n",
       "      <td>4.668700e+05</td>\n",
       "      <td>4.952970e+05</td>\n",
       "      <td>1.000000</td>\n",
       "      <td>0.000000</td>\n",
       "      <td>0.000000</td>\n",
       "      <td>3.000000</td>\n",
       "      <td>7.000000</td>\n",
       "      <td>2012.000000</td>\n",
       "    </tr>\n",
       "    <tr>\n",
       "      <th>75%</th>\n",
       "      <td>6.000000</td>\n",
       "      <td>4.026850e+05</td>\n",
       "      <td>4.272900e+05</td>\n",
       "      <td>4.192050e+05</td>\n",
       "      <td>4.295900e+05</td>\n",
       "      <td>7.874800e+05</td>\n",
       "      <td>8.193950e+05</td>\n",
       "      <td>7.161150e+05</td>\n",
       "      <td>7.508700e+05</td>\n",
       "      <td>1.000000</td>\n",
       "      <td>0.000000</td>\n",
       "      <td>1.000000</td>\n",
       "      <td>4.000000</td>\n",
       "      <td>10.000000</td>\n",
       "      <td>2015.000000</td>\n",
       "    </tr>\n",
       "    <tr>\n",
       "      <th>max</th>\n",
       "      <td>8.000000</td>\n",
       "      <td>3.472220e+07</td>\n",
       "      <td>3.541665e+07</td>\n",
       "      <td>8.285049e+07</td>\n",
       "      <td>8.285049e+07</td>\n",
       "      <td>1.105066e+08</td>\n",
       "      <td>1.105066e+08</td>\n",
       "      <td>1.105066e+08</td>\n",
       "      <td>1.105066e+08</td>\n",
       "      <td>1.000000</td>\n",
       "      <td>1.000000</td>\n",
       "      <td>1.000000</td>\n",
       "      <td>4.000000</td>\n",
       "      <td>12.000000</td>\n",
       "      <td>2017.000000</td>\n",
       "    </tr>\n",
       "  </tbody>\n",
       "</table>\n",
       "</div>"
      ],
      "text/plain": [
       "               ward     land_2017     land_2018  improvements_2017  \\\n",
       "count  26747.000000  2.674700e+04  2.674700e+04       2.652300e+04   \n",
       "mean       4.506898  2.909949e+05  3.065432e+05       3.739863e+05   \n",
       "std        2.080194  3.881424e+05  3.976415e+05       9.406325e+05   \n",
       "min        1.000000  8.700000e+02  8.700000e+02       1.000000e+02   \n",
       "25%        3.000000  1.210000e+05  1.262400e+05       1.874450e+05   \n",
       "50%        5.000000  2.477800e+05  2.666900e+05       2.821900e+05   \n",
       "75%        6.000000  4.026850e+05  4.272900e+05       4.192050e+05   \n",
       "max        8.000000  3.472220e+07  3.541665e+07       8.285049e+07   \n",
       "\n",
       "       improvements_2018    value_2017    value_2018  assessment_2017  \\\n",
       "count       2.655700e+04  2.674700e+04  2.674700e+04     2.674700e+04   \n",
       "mean        3.880637e+05  6.618492e+05  6.918502e+05     5.955662e+05   \n",
       "std         9.853857e+05  1.279731e+06  1.327380e+06     1.279933e+06   \n",
       "min         1.000000e+02  8.700000e+02  8.700000e+02     7.600000e+02   \n",
       "25%         1.957900e+05  3.557100e+05  3.719550e+05     2.911360e+05   \n",
       "50%         2.923700e+05  5.419900e+05  5.636000e+05     4.668700e+05   \n",
       "75%         4.295900e+05  7.874800e+05  8.193950e+05     7.161150e+05   \n",
       "max         8.285049e+07  1.105066e+08  1.105066e+08     1.105066e+08   \n",
       "\n",
       "       assessment_2018  homestead_yes  homestead_senior  homestead_no  \\\n",
       "count     2.674700e+04   26747.000000      26747.000000  26747.000000   \n",
       "mean      6.284687e+05       0.645493          0.025274      0.329233   \n",
       "std       1.327516e+06       0.478373          0.156959      0.469944   \n",
       "min       8.700000e+02       0.000000          0.000000      0.000000   \n",
       "25%       3.119400e+05       0.000000          0.000000      0.000000   \n",
       "50%       4.952970e+05       1.000000          0.000000      0.000000   \n",
       "75%       7.508700e+05       1.000000          0.000000      1.000000   \n",
       "max       1.105066e+08       1.000000          1.000000      1.000000   \n",
       "\n",
       "                qtr         month          year  \n",
       "count  26747.000000  26747.000000  26747.000000  \n",
       "mean       2.580775      6.753169   2010.585449  \n",
       "std        1.069908      3.274468      5.061668  \n",
       "min        1.000000      1.000000   2000.000000  \n",
       "25%        2.000000      4.000000   2007.000000  \n",
       "50%        3.000000      7.000000   2012.000000  \n",
       "75%        4.000000     10.000000   2015.000000  \n",
       "max        4.000000     12.000000   2017.000000  "
      ]
     },
     "execution_count": 285,
     "metadata": {},
     "output_type": "execute_result"
    }
   ],
   "source": [
    "df.describe()"
   ]
  },
  {
   "cell_type": "code",
   "execution_count": 286,
   "metadata": {
    "collapsed": true
   },
   "outputs": [],
   "source": [
    "df.to_csv('otr_clean.csv', index = False, encoding='utf-8')"
   ]
  },
  {
   "cell_type": "code",
   "execution_count": null,
   "metadata": {
    "collapsed": true
   },
   "outputs": [],
   "source": []
  }
 ],
 "metadata": {
  "kernelspec": {
   "display_name": "Python 3",
   "language": "python",
   "name": "python3"
  },
  "language_info": {
   "codemirror_mode": {
    "name": "ipython",
    "version": 3
   },
   "file_extension": ".py",
   "mimetype": "text/x-python",
   "name": "python",
   "nbconvert_exporter": "python",
   "pygments_lexer": "ipython3",
   "version": "3.6.3"
  }
 },
 "nbformat": 4,
 "nbformat_minor": 2
}

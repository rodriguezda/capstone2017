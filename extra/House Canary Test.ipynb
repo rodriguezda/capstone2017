{
 "cells": [
  {
   "cell_type": "code",
   "execution_count": 10,
   "metadata": {
    "collapsed": true
   },
   "outputs": [],
   "source": [
    "import pandas as pd\n",
    "import numpy as np\n",
    "\n",
    "# use requests library to interact with a URL: http://docs.python-requests.org\n",
    "import requests\n",
    "import pprint\n",
    "import time\n",
    "\n",
    "#not sure why these, maybe because why not?\n",
    "import os\n",
    "import sys\n"
   ]
  },
  {
   "cell_type": "code",
   "execution_count": 2,
   "metadata": {},
   "outputs": [
    {
     "name": "stdout",
     "output_type": "stream",
     "text": [
      "Error: Server returned status code 401\n"
     ]
    }
   ],
   "source": [
    "resp = requests.get('INSERT HERE')\n",
    "if resp.status_code != 200:\n",
    "    # This means something went wrong.\n",
    "    print('Error: Server returned status code %s' % resp.status_code)"
   ]
  },
  {
   "cell_type": "markdown",
   "metadata": {
    "collapsed": true
   },
   "source": [
    "### GET URL Format\n",
    "\n",
    "GET https://api.housecanary.com/v2/{ENDPOINT}?{IDENTIFIERS}\n",
    "\n",
    "{ENDPOINT} is the specific endpoint you are calling, such as property/value. See all available endpoints. https://api-docs.housecanary.com/#endpoints\n",
    "\n",
    "{IDENTIFIERS} is the URL-encoded string providing item identifiers as an ampersand-separated list of key=value pairs. Exact identifiers depend on the level of the URL, see Levels and Identifiers. https://api-docs.housecanary.com/#levels-and-identifiers\n",
    "\n",
    "Example URL separated into constituent segments:\n",
    "\n",
    "{BASE}: https://api.housecanary.com/v2\n",
    "{ENDPOINT}: zip/details\n",
    "{IDENTIFIERS}: zipcode=01234\n",
    "\n",
    "Then, combined together:\n",
    "\n",
    "{BASE}/{ENDPOINT}?{IDENTIFIERS}: https://api.housecanary.com/v2/zip/details?zipcode=01234"
   ]
  },
  {
   "cell_type": "code",
   "execution_count": 6,
   "metadata": {
    "collapsed": true
   },
   "outputs": [],
   "source": [
    "test_url = 'https://api.housecanary.com/v2/property/test_addresses'\n",
    "\n",
    "user = 'test_FYLQ7GWI0BIIRCCKTOCZ'\n",
    "password = 'XzaaOmGvTKvr0scfoZk4ZaCYtg0APmGE'\n",
    "\n",
    "test = []\n",
    "for i in range(1,6):\n",
    "    r = requests.get(url, auth=HTTPBasicAuth(user, password))\n",
    "    test.append(r.json())\n",
    "    time.sleep(5)"
   ]
  },
  {
   "cell_type": "code",
   "execution_count": 17,
   "metadata": {},
   "outputs": [
    {
     "name": "stdout",
     "output_type": "stream",
     "text": [
      "{'code': 403,\n",
      " 'message': 'This is an invalid address.  Test API keys will only work with '\n",
      "            'addresses available from this endpoint: '\n",
      "            'https://api.housecanary.com/v2/property/test_addresses'}\n"
     ]
    }
   ],
   "source": [
    "url = 'https://api.housecanary.com/v2/property/geocode'\n",
    "\n",
    "params = {'address': '43 Valmonte Plaza',\n",
    "          'zipcode': '90274'}\n",
    "\n",
    "response = requests.get(url, params=params, auth=(user, password))\n",
    "\n",
    "pprint.pprint(response.json())\n",
    "\n",
    "#response = requests.get(test_url, params=params, auth=(user, password))\n",
    "\n"
   ]
  },
  {
   "cell_type": "code",
   "execution_count": 18,
   "metadata": {},
   "outputs": [
    {
     "name": "stdout",
     "output_type": "stream",
     "text": [
      "{'message': 'Invalid credentials'}\n"
     ]
    }
   ],
   "source": [
    "url = 'https://api.housecanary.com/v2/property/geocode'\n",
    "\n",
    "post_data = [\n",
    "    {'address': '7500 Melrose Ave', 'zipcode': '90046'},\n",
    "    {'address': '43 Valmonte Plaza', 'zipcode': '90274'}\n",
    "]\n",
    "\n",
    "response = requests.post(url, json=post_data, auth=('my_api_key', 'my_api_secret'))\n",
    "\n",
    "pprint.pprint(response.json())"
   ]
  },
  {
   "cell_type": "code",
   "execution_count": null,
   "metadata": {
    "collapsed": true
   },
   "outputs": [],
   "source": []
  }
 ],
 "metadata": {
  "kernelspec": {
   "display_name": "Python 3",
   "language": "python",
   "name": "python3"
  },
  "language_info": {
   "codemirror_mode": {
    "name": "ipython",
    "version": 3
   },
   "file_extension": ".py",
   "mimetype": "text/x-python",
   "name": "python",
   "nbconvert_exporter": "python",
   "pygments_lexer": "ipython3",
   "version": "3.6.3"
  }
 },
 "nbformat": 4,
 "nbformat_minor": 2
}

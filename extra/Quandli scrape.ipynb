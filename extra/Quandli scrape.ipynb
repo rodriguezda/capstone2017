{
 "cells": [
  {
   "cell_type": "code",
   "execution_count": 2,
   "metadata": {
    "collapsed": true
   },
   "outputs": [],
   "source": [
    "import pandas as pd\n",
    "import numpy as np\n",
    "\n",
    "# use requests library to interact with a URL\n",
    "import requests\n",
    "import time\n",
    "\n",
    "#not sure why these, maybe because why not?\n",
    "import os\n",
    "import sys\n",
    "\n",
    "import quandl as Quandl\n",
    "import pickle\n",
    "import os.path"
   ]
  },
  {
   "cell_type": "markdown",
   "metadata": {},
   "source": [
    "How to interact with a REST API:\n",
    "\n",
    "- Make a \"request\" to a specific URL (an \"endpoint\"), and get the data back in a \"response\"\n",
    "- Most relevant request method for us is GET (other methods: POST, PUT, DELETE)\n",
    "- Response is often JSON format\n",
    "- Web console is sometimes available (allows you to explore an API)"
   ]
  },
  {
   "cell_type": "code",
   "execution_count": null,
   "metadata": {
    "collapsed": true
   },
   "outputs": [],
   "source": [
    "api_key=Uw_xg6YgmHbHQHZzWNAE"
   ]
  },
  {
   "cell_type": "code",
   "execution_count": 3,
   "metadata": {},
   "outputs": [],
   "source": [
    "\n",
    "if os.path.isfile ('authtoken.p'):\n",
    "    Quandl.APIConfig.api_key = pickle.load(open('authtoken.p', 'rb'))"
   ]
  },
  {
   "cell_type": "code",
   "execution_count": 4,
   "metadata": {
    "collapsed": true
   },
   "outputs": [],
   "source": [
    "#based on the documentation, https://swapi.co/documentation, what is this requesting\n",
    "r = requests.get('https://api.housecanary.com/v2/property/listing_status')"
   ]
  },
  {
   "cell_type": "code",
   "execution_count": 5,
   "metadata": {},
   "outputs": [
    {
     "data": {
      "text/plain": [
       "401"
      ]
     },
     "execution_count": 5,
     "metadata": {},
     "output_type": "execute_result"
    }
   ],
   "source": [
    "# check the status: 200 means success, 4xx means error\n",
    "r.status_code"
   ]
  },
  {
   "cell_type": "code",
   "execution_count": 6,
   "metadata": {},
   "outputs": [
    {
     "data": {
      "text/plain": [
       "'{\"message\": \"The request does not contain required authentication parameters. Please use one of the authentication protocols supported by HouseCanary APIs.\"}'"
      ]
     },
     "execution_count": 6,
     "metadata": {},
     "output_type": "execute_result"
    }
   ],
   "source": [
    "# view the raw response text\n",
    "r.text"
   ]
  },
  {
   "cell_type": "code",
   "execution_count": 7,
   "metadata": {},
   "outputs": [
    {
     "data": {
      "text/plain": [
       "{'message': 'The request does not contain required authentication parameters. Please use one of the authentication protocols supported by HouseCanary APIs.'}"
      ]
     },
     "execution_count": 7,
     "metadata": {},
     "output_type": "execute_result"
    }
   ],
   "source": [
    "# decode the JSON response body into a dictionary\n",
    "r.json()"
   ]
  },
  {
   "cell_type": "code",
   "execution_count": 8,
   "metadata": {},
   "outputs": [
    {
     "ename": "KeyError",
     "evalue": "'results'",
     "output_type": "error",
     "traceback": [
      "\u001b[0;31m---------------------------------------------------------------------------\u001b[0m",
      "\u001b[0;31mKeyError\u001b[0m                                  Traceback (most recent call last)",
      "\u001b[0;32m<ipython-input-8-22f20266a899>\u001b[0m in \u001b[0;36m<module>\u001b[0;34m()\u001b[0m\n\u001b[1;32m      1\u001b[0m \u001b[0;31m#Based on the output, how to select just the reuslts?\u001b[0m\u001b[0;34m\u001b[0m\u001b[0;34m\u001b[0m\u001b[0m\n\u001b[0;32m----> 2\u001b[0;31m \u001b[0mresults\u001b[0m \u001b[0;34m=\u001b[0m \u001b[0mr\u001b[0m\u001b[0;34m.\u001b[0m\u001b[0mjson\u001b[0m\u001b[0;34m(\u001b[0m\u001b[0;34m)\u001b[0m\u001b[0;34m[\u001b[0m\u001b[0;34m'results'\u001b[0m\u001b[0;34m]\u001b[0m\u001b[0;34m\u001b[0m\u001b[0m\n\u001b[0m\u001b[1;32m      3\u001b[0m \u001b[0mresults\u001b[0m\u001b[0;34m\u001b[0m\u001b[0m\n",
      "\u001b[0;31mKeyError\u001b[0m: 'results'"
     ]
    }
   ],
   "source": [
    "#Based on the output, how to select just the reuslts?\n",
    "results = r.json()['results']\n",
    "results"
   ]
  },
  {
   "cell_type": "code",
   "execution_count": 9,
   "metadata": {},
   "outputs": [
    {
     "ename": "NameError",
     "evalue": "name 'results' is not defined",
     "output_type": "error",
     "traceback": [
      "\u001b[0;31m---------------------------------------------------------------------------\u001b[0m",
      "\u001b[0;31mNameError\u001b[0m                                 Traceback (most recent call last)",
      "\u001b[0;32m<ipython-input-9-88ff859b6208>\u001b[0m in \u001b[0;36m<module>\u001b[0;34m()\u001b[0m\n\u001b[0;32m----> 1\u001b[0;31m \u001b[0mdf\u001b[0m \u001b[0;34m=\u001b[0m \u001b[0mpd\u001b[0m\u001b[0;34m.\u001b[0m\u001b[0mDataFrame\u001b[0m\u001b[0;34m(\u001b[0m\u001b[0mresults\u001b[0m\u001b[0;34m)\u001b[0m\u001b[0;34m\u001b[0m\u001b[0m\n\u001b[0m",
      "\u001b[0;31mNameError\u001b[0m: name 'results' is not defined"
     ]
    }
   ],
   "source": [
    "df = pd.DataFrame(results)"
   ]
  },
  {
   "cell_type": "code",
   "execution_count": 10,
   "metadata": {
    "collapsed": true
   },
   "outputs": [],
   "source": [
    "people = []\n",
    "\n",
    "for i in range(1,6):\n",
    "    html= 'http://swapi.co/api/people/' + str(i) + '/'\n",
    "    x = requests.get(html)\n",
    "    people.append(x.json())\n",
    "    #time.sleep(1)"
   ]
  },
  {
   "cell_type": "code",
   "execution_count": 11,
   "metadata": {
    "collapsed": true
   },
   "outputs": [],
   "source": [
    "# We can also turn this into a dataframe\n",
    "df_people = pd.DataFrame(people)"
   ]
  },
  {
   "cell_type": "code",
   "execution_count": 12,
   "metadata": {},
   "outputs": [
    {
     "data": {
      "text/html": [
       "<div>\n",
       "<style>\n",
       "    .dataframe thead tr:only-child th {\n",
       "        text-align: right;\n",
       "    }\n",
       "\n",
       "    .dataframe thead th {\n",
       "        text-align: left;\n",
       "    }\n",
       "\n",
       "    .dataframe tbody tr th {\n",
       "        vertical-align: top;\n",
       "    }\n",
       "</style>\n",
       "<table border=\"1\" class=\"dataframe\">\n",
       "  <thead>\n",
       "    <tr style=\"text-align: right;\">\n",
       "      <th></th>\n",
       "      <th>birth_year</th>\n",
       "      <th>created</th>\n",
       "      <th>edited</th>\n",
       "      <th>eye_color</th>\n",
       "      <th>films</th>\n",
       "      <th>gender</th>\n",
       "      <th>hair_color</th>\n",
       "      <th>height</th>\n",
       "      <th>homeworld</th>\n",
       "      <th>mass</th>\n",
       "      <th>name</th>\n",
       "      <th>skin_color</th>\n",
       "      <th>species</th>\n",
       "      <th>starships</th>\n",
       "      <th>url</th>\n",
       "      <th>vehicles</th>\n",
       "    </tr>\n",
       "  </thead>\n",
       "  <tbody>\n",
       "    <tr>\n",
       "      <th>0</th>\n",
       "      <td>19BBY</td>\n",
       "      <td>2014-12-09T13:50:51.644000Z</td>\n",
       "      <td>2014-12-20T21:17:56.891000Z</td>\n",
       "      <td>blue</td>\n",
       "      <td>[https://swapi.co/api/films/2/, https://swapi....</td>\n",
       "      <td>male</td>\n",
       "      <td>blond</td>\n",
       "      <td>172</td>\n",
       "      <td>https://swapi.co/api/planets/1/</td>\n",
       "      <td>77</td>\n",
       "      <td>Luke Skywalker</td>\n",
       "      <td>fair</td>\n",
       "      <td>[https://swapi.co/api/species/1/]</td>\n",
       "      <td>[https://swapi.co/api/starships/12/, https://s...</td>\n",
       "      <td>https://swapi.co/api/people/1/</td>\n",
       "      <td>[https://swapi.co/api/vehicles/14/, https://sw...</td>\n",
       "    </tr>\n",
       "    <tr>\n",
       "      <th>1</th>\n",
       "      <td>112BBY</td>\n",
       "      <td>2014-12-10T15:10:51.357000Z</td>\n",
       "      <td>2014-12-20T21:17:50.309000Z</td>\n",
       "      <td>yellow</td>\n",
       "      <td>[https://swapi.co/api/films/2/, https://swapi....</td>\n",
       "      <td>n/a</td>\n",
       "      <td>n/a</td>\n",
       "      <td>167</td>\n",
       "      <td>https://swapi.co/api/planets/1/</td>\n",
       "      <td>75</td>\n",
       "      <td>C-3PO</td>\n",
       "      <td>gold</td>\n",
       "      <td>[https://swapi.co/api/species/2/]</td>\n",
       "      <td>[]</td>\n",
       "      <td>https://swapi.co/api/people/2/</td>\n",
       "      <td>[]</td>\n",
       "    </tr>\n",
       "    <tr>\n",
       "      <th>2</th>\n",
       "      <td>33BBY</td>\n",
       "      <td>2014-12-10T15:11:50.376000Z</td>\n",
       "      <td>2014-12-20T21:17:50.311000Z</td>\n",
       "      <td>red</td>\n",
       "      <td>[https://swapi.co/api/films/2/, https://swapi....</td>\n",
       "      <td>n/a</td>\n",
       "      <td>n/a</td>\n",
       "      <td>96</td>\n",
       "      <td>https://swapi.co/api/planets/8/</td>\n",
       "      <td>32</td>\n",
       "      <td>R2-D2</td>\n",
       "      <td>white, blue</td>\n",
       "      <td>[https://swapi.co/api/species/2/]</td>\n",
       "      <td>[]</td>\n",
       "      <td>https://swapi.co/api/people/3/</td>\n",
       "      <td>[]</td>\n",
       "    </tr>\n",
       "    <tr>\n",
       "      <th>3</th>\n",
       "      <td>41.9BBY</td>\n",
       "      <td>2014-12-10T15:18:20.704000Z</td>\n",
       "      <td>2014-12-20T21:17:50.313000Z</td>\n",
       "      <td>yellow</td>\n",
       "      <td>[https://swapi.co/api/films/2/, https://swapi....</td>\n",
       "      <td>male</td>\n",
       "      <td>none</td>\n",
       "      <td>202</td>\n",
       "      <td>https://swapi.co/api/planets/1/</td>\n",
       "      <td>136</td>\n",
       "      <td>Darth Vader</td>\n",
       "      <td>white</td>\n",
       "      <td>[https://swapi.co/api/species/1/]</td>\n",
       "      <td>[https://swapi.co/api/starships/13/]</td>\n",
       "      <td>https://swapi.co/api/people/4/</td>\n",
       "      <td>[]</td>\n",
       "    </tr>\n",
       "    <tr>\n",
       "      <th>4</th>\n",
       "      <td>19BBY</td>\n",
       "      <td>2014-12-10T15:20:09.791000Z</td>\n",
       "      <td>2014-12-20T21:17:50.315000Z</td>\n",
       "      <td>brown</td>\n",
       "      <td>[https://swapi.co/api/films/2/, https://swapi....</td>\n",
       "      <td>female</td>\n",
       "      <td>brown</td>\n",
       "      <td>150</td>\n",
       "      <td>https://swapi.co/api/planets/2/</td>\n",
       "      <td>49</td>\n",
       "      <td>Leia Organa</td>\n",
       "      <td>light</td>\n",
       "      <td>[https://swapi.co/api/species/1/]</td>\n",
       "      <td>[]</td>\n",
       "      <td>https://swapi.co/api/people/5/</td>\n",
       "      <td>[https://swapi.co/api/vehicles/30/]</td>\n",
       "    </tr>\n",
       "  </tbody>\n",
       "</table>\n",
       "</div>"
      ],
      "text/plain": [
       "  birth_year                      created                       edited  \\\n",
       "0      19BBY  2014-12-09T13:50:51.644000Z  2014-12-20T21:17:56.891000Z   \n",
       "1     112BBY  2014-12-10T15:10:51.357000Z  2014-12-20T21:17:50.309000Z   \n",
       "2      33BBY  2014-12-10T15:11:50.376000Z  2014-12-20T21:17:50.311000Z   \n",
       "3    41.9BBY  2014-12-10T15:18:20.704000Z  2014-12-20T21:17:50.313000Z   \n",
       "4      19BBY  2014-12-10T15:20:09.791000Z  2014-12-20T21:17:50.315000Z   \n",
       "\n",
       "  eye_color                                              films  gender  \\\n",
       "0      blue  [https://swapi.co/api/films/2/, https://swapi....    male   \n",
       "1    yellow  [https://swapi.co/api/films/2/, https://swapi....     n/a   \n",
       "2       red  [https://swapi.co/api/films/2/, https://swapi....     n/a   \n",
       "3    yellow  [https://swapi.co/api/films/2/, https://swapi....    male   \n",
       "4     brown  [https://swapi.co/api/films/2/, https://swapi....  female   \n",
       "\n",
       "  hair_color height                        homeworld mass            name  \\\n",
       "0      blond    172  https://swapi.co/api/planets/1/   77  Luke Skywalker   \n",
       "1        n/a    167  https://swapi.co/api/planets/1/   75           C-3PO   \n",
       "2        n/a     96  https://swapi.co/api/planets/8/   32           R2-D2   \n",
       "3       none    202  https://swapi.co/api/planets/1/  136     Darth Vader   \n",
       "4      brown    150  https://swapi.co/api/planets/2/   49     Leia Organa   \n",
       "\n",
       "    skin_color                            species  \\\n",
       "0         fair  [https://swapi.co/api/species/1/]   \n",
       "1         gold  [https://swapi.co/api/species/2/]   \n",
       "2  white, blue  [https://swapi.co/api/species/2/]   \n",
       "3        white  [https://swapi.co/api/species/1/]   \n",
       "4        light  [https://swapi.co/api/species/1/]   \n",
       "\n",
       "                                           starships  \\\n",
       "0  [https://swapi.co/api/starships/12/, https://s...   \n",
       "1                                                 []   \n",
       "2                                                 []   \n",
       "3               [https://swapi.co/api/starships/13/]   \n",
       "4                                                 []   \n",
       "\n",
       "                              url  \\\n",
       "0  https://swapi.co/api/people/1/   \n",
       "1  https://swapi.co/api/people/2/   \n",
       "2  https://swapi.co/api/people/3/   \n",
       "3  https://swapi.co/api/people/4/   \n",
       "4  https://swapi.co/api/people/5/   \n",
       "\n",
       "                                            vehicles  \n",
       "0  [https://swapi.co/api/vehicles/14/, https://sw...  \n",
       "1                                                 []  \n",
       "2                                                 []  \n",
       "3                                                 []  \n",
       "4                [https://swapi.co/api/vehicles/30/]  "
      ]
     },
     "execution_count": 12,
     "metadata": {},
     "output_type": "execute_result"
    }
   ],
   "source": [
    "df_people"
   ]
  },
  {
   "cell_type": "code",
   "execution_count": null,
   "metadata": {
    "collapsed": true
   },
   "outputs": [],
   "source": []
  }
 ],
 "metadata": {
  "kernelspec": {
   "display_name": "Python 3",
   "language": "python",
   "name": "python3"
  },
  "language_info": {
   "codemirror_mode": {
    "name": "ipython",
    "version": 3
   },
   "file_extension": ".py",
   "mimetype": "text/x-python",
   "name": "python",
   "nbconvert_exporter": "python",
   "pygments_lexer": "ipython3",
   "version": "3.6.3"
  }
 },
 "nbformat": 4,
 "nbformat_minor": 2
}
